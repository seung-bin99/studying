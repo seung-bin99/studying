{
 "cells": [
  {
   "cell_type": "markdown",
   "metadata": {
    "id": "P2n_mLirFD6s"
   },
   "source": [
    "# MNIST"
   ]
  },
  {
   "cell_type": "markdown",
   "metadata": {
    "id": "gIN5d51gtker"
   },
   "source": [
    "## 1.환경준비"
   ]
  },
  {
   "cell_type": "markdown",
   "metadata": {
    "id": "98K82DAxvX6I"
   },
   "source": [
    "### (1) 라이브러리 로딩"
   ]
  },
  {
   "cell_type": "code",
   "execution_count": null,
   "metadata": {
    "id": "qUG9ltiWCJXr"
   },
   "outputs": [],
   "source": [
    "import pandas as pd\n",
    "import numpy as np\n",
    "import matplotlib.pyplot as plt\n",
    "import seaborn as sns\n",
    "\n",
    "from sklearn.model_selection import train_test_split\n",
    "from sklearn.metrics import *\n",
    "from sklearn.preprocessing import StandardScaler, MinMaxScaler\n",
    "\n",
    "from keras.models import Sequential\n",
    "from keras.layers import Dense, Flatten\n",
    "from keras.backend import clear_session\n",
    "from keras.optimizers import Adam\n",
    "from keras.datasets import mnist, fashion_mnist"
   ]
  },
  {
   "cell_type": "markdown",
   "metadata": {
    "id": "_h70-6MP7wtO"
   },
   "source": [
    "* 함수 만들기"
   ]
  },
  {
   "cell_type": "code",
   "execution_count": null,
   "metadata": {
    "id": "JWswaopv7yBI"
   },
   "outputs": [],
   "source": [
    "# 학습곡선 함수\n",
    "def dl_history_plot(history):\n",
    "    plt.figure(figsize=(10,6))\n",
    "    plt.plot(history['loss'], label='train_err')\n",
    "    plt.plot(history['val_loss'], label='val_err')\n",
    "\n",
    "    plt.ylabel('Loss')\n",
    "    plt.xlabel('Epoch')\n",
    "    plt.legend()\n",
    "    plt.grid()\n",
    "    plt.show()"
   ]
  },
  {
   "cell_type": "markdown",
   "metadata": {
    "id": "6wuqykgvviCc"
   },
   "source": [
    "### (2) 데이터로딩"
   ]
  },
  {
   "cell_type": "markdown",
   "metadata": {
    "id": "hg2CFutJcbJU"
   },
   "source": [
    "![](https://wikidocs.net/images/page/60324/mnist.png)"
   ]
  },
  {
   "cell_type": "code",
   "execution_count": null,
   "metadata": {
    "id": "uHH4W8B0BYJp"
   },
   "outputs": [],
   "source": [
    "# 케라스 데이터셋으로 부터 mnist 불러오기\n",
    "(x_train, y_train), (x_val, y_val) = mnist.load_data()"
   ]
  },
  {
   "cell_type": "code",
   "execution_count": null,
   "metadata": {
    "colab": {
     "base_uri": "https://localhost:8080/"
    },
    "executionInfo": {
     "elapsed": 4,
     "status": "ok",
     "timestamp": 1713147435672,
     "user": {
      "displayName": "허승빈",
      "userId": "05743957422728933959"
     },
     "user_tz": -540
    },
    "id": "e_Q8IByAcBs6",
    "outputId": "ff7c02cf-79cf-4910-d524-96c4e2a774a8"
   },
   "outputs": [
    {
     "data": {
      "text/plain": [
       "((60000, 28, 28), (60000,))"
      ]
     },
     "execution_count": 33,
     "metadata": {},
     "output_type": "execute_result"
    }
   ],
   "source": [
    "x_train.shape, y_train.shape"
   ]
  },
  {
   "cell_type": "code",
   "execution_count": null,
   "metadata": {
    "id": "11xRsh44b_X5"
   },
   "outputs": [],
   "source": [
    "class_names = ['0','1','2','3','4','5','6','7','8','9']"
   ]
  },
  {
   "cell_type": "markdown",
   "metadata": {
    "id": "fjFX5Xkfe-XU"
   },
   "source": [
    "## 2 데이터 살펴보기"
   ]
  },
  {
   "cell_type": "code",
   "execution_count": null,
   "metadata": {
    "colab": {
     "base_uri": "https://localhost:8080/",
     "height": 430
    },
    "executionInfo": {
     "elapsed": 289,
     "status": "ok",
     "timestamp": 1713147435959,
     "user": {
      "displayName": "허승빈",
      "userId": "05743957422728933959"
     },
     "user_tz": -540
    },
    "id": "XJ24tyaqcJ4a",
    "outputId": "5985a97d-247d-4cf8-f60d-b035e2ebb032"
   },
   "outputs": [
    {
     "data": {
      "image/png": "[encoded data removed]",
      "text/plain": [
       "<Figure size 640x480 with 2 Axes>"
      ]
     },
     "metadata": {},
     "output_type": "display_data"
    }
   ],
   "source": [
    "# 아래 숫자를 바꿔가며 화면에 그려봄.\n",
    "n = 5330\n",
    "\n",
    "plt.figure()\n",
    "plt.imshow(x_train[n], cmap=plt.cm.binary)\n",
    "plt.colorbar()\n",
    "plt.show()"
   ]
  },
  {
   "cell_type": "code",
   "execution_count": null,
   "metadata": {
    "colab": {
     "base_uri": "https://localhost:8080/",
     "height": 69
    },
    "executionInfo": {
     "elapsed": 6,
     "status": "ok",
     "timestamp": 1713147435959,
     "user": {
      "displayName": "허승빈",
      "userId": "05743957422728933959"
     },
     "user_tz": -540
    },
    "id": "O_gzP_7lJqy1",
    "outputId": "874b589a-5530-41c2-f64e-e3d4ba26cb9b"
   },
   "outputs": [
    {
     "data": {
      "text/html": [
       "<style>\n",
       "      .ndarray_repr .ndarray_raw_data {\n",
       "        display: none;\n",
       "      }\n",
       "      .ndarray_repr.show_array .ndarray_raw_data {\n",
       "        display: block;\n",
       "      }\n",
       "      .ndarray_repr.show_array .ndarray_image_preview {\n",
       "        display: none;\n",
       "      }\n",
       "      </style>\n",
       "      <div id=\"id-3c9385ba-3bd9-4118-b51c-b20a08730fd0\" class=\"ndarray_repr\"><pre>ndarray (28, 28) <button style=\"padding: 0 2px;\">show data</button></pre><img src=\"data:image/png;base64,iVBORw0KGgoAAAANSUhEUgAAABwAAAAcCAAAAABXZoBIAAABAUlEQVR4nM3PPyiEcRzH8Y8/59BNSilSBpkuRRnEs4qubjFQLAaD0ewWkyQuXc9sksHAYrrBdoPFLUic5XpKPYNDwvXG4J6T7/1Gg8/0+faqT32lf5zEwsXnx9HmgBN3ACAcd9jc++1iZ+9plYfJBht7KfRJUirgPGHRv4x/l3SVbcewN52UpAJPBtrnD+7eCIclZSJsrVn3yQjrNyoVHYNNh5RGoyNjZgd5Xa4fuwb3yP4cZc5+4TNr9b7B44zBZFQnQnwZTEVWIRiyWJv1Qlgyr/gcxyXFvArV2RaDU7Dfof4cBGnZtOXhauseij0NJikLcL3a7DLFcpRXupz01/kCc5pt0wUuVZsAAAAASUVORK5CYII=\" class=\"ndarray_image_preview\" /><pre class=\"ndarray_raw_data\">array([[  0,   0,   0,   0,   0,   0,   0,   0,   0,   0,   0,   0,   0,   0,   0,   0,   0,   0,   0,   0,   0,   0,   0,   0,   0,   0,   0,   0],\n",
       "       [  0,   0,   0,   0,   0,   0,   0,   0,   0,   0,   0,   0,   0,   0,   0,   0,   0,   0,   0,   0,   0,   0,   0,   0,   0,   0,   0,   0],\n",
       "       [  0,   0,   0,   0,   0,   0,   0,   0,   0,   0,   0,   0,   0,   0,   0,   0,   0,   0,   0,   0,   0,   0,   0,   0,   0,   0,   0,   0],\n",
       "       [  0,   0,   0,   0,   0,   0,   0,   0,   0,   0,   0,   0,   0,   0,   0,   0,   0,   0,   0,   0,   0,   0,   0,   0,   0,   0,   0,   0],\n",
       "       [  0,   0,   0,   0,   0,   0,   0,   0,   0,   0,   0,   0,   0,   0,   0,   0,   0,   0,   0,   0,   0,   0,   0,   0,   0,   0,   0,   0],\n",
       "       [  0,   0,   0,   0,   0,   0,   0,   0,   0,   0,   0,  12,  92, 214, 255, 254, 176, 138,  33,   0,   0,   0,   0,   0,   0,   0,   0,   0],\n",
       "       [  0,   0,   0,   0,   0,   0,   0,   0,   0,   0,   0, 143, 253, 253, 253, 253, 253, 253, 236,  58,   0,   0,   0,   0,   0,   0,   0,   0],\n",
       "       [  0,   0,   0,   0,   0,   0,   0,   0,   0,   0,  88, 250, 221,  93,  10,  27, 192, 251, 253, 240,  61,   0,   0,   0,   0,   0,   0,   0],\n",
       "       [  0,   0,   0,   0,   0,   0,   0,   0,   0,  54, 246, 199,  28,   0,   0,   0,   0,  76, 230, 253, 208,  12,   0,   0,   0,   0,   0,   0],\n",
       "       [  0,   0,   0,   0,   0,   0,   0,   0,   0, 150, 215,   7,   0,   0,   0,   0,   0,   0,  79, 251, 253, 142,   0,   0,   0,   0,   0,   0],\n",
       "       [  0,   0,   0,   0,   0,   0,   0,   0,   0,   0,   0,   0,  62,  73,  45,   0,   0,   0,   0, 199, 253, 243,   0,   0,   0,   0,   0,   0],\n",
       "       [  0,   0,   0,   0,   0,   0,   0,   0,   8,  89, 168, 223, 249, 253, 236,  47,   0,   0,   0, 125, 253, 243,   0,   0,   0,   0,   0,   0],\n",
       "       [  0,   0,   0,   0,   0,   0,   0,  21, 203, 253, 250, 124,  88,  88,  54,   0,   0,   0,   0, 125, 253, 243,   0,   0,   0,   0,   0,   0],\n",
       "       [  0,   0,   0,   0,   0,   0,   1, 172, 253, 222,  51,   0,   0,   0,   0,   0,   0,   0,   0, 125, 253, 243,   0,   0,   0,   0,   0,   0],\n",
       "       [  0,   0,   0,   0,   0,   0,  37, 253, 248, 102,   0,   0,   0,   0,   0,   0,   0,   0,   0, 146, 253, 243,   0,   0,   0,   0,   0,   0],\n",
       "       [  0,   0,   0,   0,   0,   0, 160, 253, 144,   0,   0,   0,   0,   0,   0,   0,   0,   0,   0, 228, 253, 203,   0,   0,   0,   0,   0,   0],\n",
       "       [  0,   0,   0,   0,   0,   0, 244, 253, 124,   0,   0,   0,   0,   0,   0,   0,   0,   0, 136, 253, 242,  74,   0,   0,   0,   0,   0,   0],\n",
       "       [  0,   0,   0,   0,   0,   0, 244, 253,  45,   0,   0,   0,   0,   0,   0,   0,   0,  60, 236, 253, 150,   0,   0,   0,   0,   0,   0,   0],\n",
       "       [  0,   0,   0,   0,   0,   0, 244, 253,  76,   0,   0,   0,   0,   0,   0,   0,  60, 241, 253, 230,  39,   0,   0,   0,   0,   0,   0,   0],\n",
       "       [  0,   0,   0,   0,   0,   0, 244, 253, 124,   0,   0,   0,   0,   0,   0,  62, 236, 253, 253,  98,   0,   0,   0,   0,   0,   0,   0,   0],\n",
       "       [  0,   0,   0,   0,   0,   0, 150, 253, 177,   7,   0,   0,   0,   5,  62, 241, 253, 251,  84,   3,   0,   0,   0,   0,   0,   0,   0,   0],\n",
       "       [  0,   0,   0,   0,   0,   0,  71, 253, 253, 166,   9,   0,  30, 148, 253, 253, 230,  79,   0,   0,   0,   0,   0,   0,   0,   0,   0,   0],\n",
       "       [  0,   0,   0,   0,   0,   0,   6, 188, 253, 253, 216, 140, 233, 253, 253, 209,  24,   0,   0,   0,   0,   0,   0,   0,   0,   0,   0,   0],\n",
       "       [  0,   0,   0,   0,   0,   0,   0,   0, 144, 253, 253, 253, 253, 218, 114,   2,   0,   0,   0,   0,   0,   0,   0,   0,   0,   0,   0,   0],\n",
       "       [  0,   0,   0,   0,   0,   0,   0,   0,   5, 148, 253, 228, 106,  18,   0,   0,   0,   0,   0,   0,   0,   0,   0,   0,   0,   0,   0,   0],\n",
       "       [  0,   0,   0,   0,   0,   0,   0,   0,   0,   0,   0,   0,   0,   0,   0,   0,   0,   0,   0,   0,   0,   0,   0,   0,   0,   0,   0,   0],\n",
       "       [  0,   0,   0,   0,   0,   0,   0,   0,   0,   0,   0,   0,   0,   0,   0,   0,   0,   0,   0,   0,   0,   0,   0,   0,   0,   0,   0,   0],\n",
       "       [  0,   0,   0,   0,   0,   0,   0,   0,   0,   0,   0,   0,   0,   0,   0,   0,   0,   0,   0,   0,   0,   0,   0,   0,   0,   0,   0,   0]], dtype=uint8)</pre></div><script>\n",
       "      (() => {\n",
       "      const titles = ['show data', 'hide data'];\n",
       "      let index = 0\n",
       "      document.querySelector('#id-3c9385ba-3bd9-4118-b51c-b20a08730fd0 button').onclick = (e) => {\n",
       "        document.querySelector('#id-3c9385ba-3bd9-4118-b51c-b20a08730fd0').classList.toggle('show_array');\n",
       "        index = (++index) % 2;\n",
       "        document.querySelector('#id-3c9385ba-3bd9-4118-b51c-b20a08730fd0 button').textContent = titles[index];\n",
       "        e.preventDefault();\n",
       "        e.stopPropagation();\n",
       "      }\n",
       "      })();\n",
       "    </script>"
      ],
      "text/plain": [
       "array([[  0,   0,   0,   0,   0,   0,   0,   0,   0,   0,   0,   0,   0,   0,   0,   0,   0,   0,   0,   0,   0,   0,   0,   0,   0,   0,   0,   0],\n",
       "       [  0,   0,   0,   0,   0,   0,   0,   0,   0,   0,   0,   0,   0,   0,   0,   0,   0,   0,   0,   0,   0,   0,   0,   0,   0,   0,   0,   0],\n",
       "       [  0,   0,   0,   0,   0,   0,   0,   0,   0,   0,   0,   0,   0,   0,   0,   0,   0,   0,   0,   0,   0,   0,   0,   0,   0,   0,   0,   0],\n",
       "       [  0,   0,   0,   0,   0,   0,   0,   0,   0,   0,   0,   0,   0,   0,   0,   0,   0,   0,   0,   0,   0,   0,   0,   0,   0,   0,   0,   0],\n",
       "       [  0,   0,   0,   0,   0,   0,   0,   0,   0,   0,   0,   0,   0,   0,   0,   0,   0,   0,   0,   0,   0,   0,   0,   0,   0,   0,   0,   0],\n",
       "       [  0,   0,   0,   0,   0,   0,   0,   0,   0,   0,   0,  12,  92, 214, 255, 254, 176, 138,  33,   0,   0,   0,   0,   0,   0,   0,   0,   0],\n",
       "       [  0,   0,   0,   0,   0,   0,   0,   0,   0,   0,   0, 143, 253, 253, 253, 253, 253, 253, 236,  58,   0,   0,   0,   0,   0,   0,   0,   0],\n",
       "       [  0,   0,   0,   0,   0,   0,   0,   0,   0,   0,  88, 250, 221,  93,  10,  27, 192, 251, 253, 240,  61,   0,   0,   0,   0,   0,   0,   0],\n",
       "       [  0,   0,   0,   0,   0,   0,   0,   0,   0,  54, 246, 199,  28,   0,   0,   0,   0,  76, 230, 253, 208,  12,   0,   0,   0,   0,   0,   0],\n",
       "       [  0,   0,   0,   0,   0,   0,   0,   0,   0, 150, 215,   7,   0,   0,   0,   0,   0,   0,  79, 251, 253, 142,   0,   0,   0,   0,   0,   0],\n",
       "       [  0,   0,   0,   0,   0,   0,   0,   0,   0,   0,   0,   0,  62,  73,  45,   0,   0,   0,   0, 199, 253, 243,   0,   0,   0,   0,   0,   0],\n",
       "       [  0,   0,   0,   0,   0,   0,   0,   0,   8,  89, 168, 223, 249, 253, 236,  47,   0,   0,   0, 125, 253, 243,   0,   0,   0,   0,   0,   0],\n",
       "       [  0,   0,   0,   0,   0,   0,   0,  21, 203, 253, 250, 124,  88,  88,  54,   0,   0,   0,   0, 125, 253, 243,   0,   0,   0,   0,   0,   0],\n",
       "       [  0,   0,   0,   0,   0,   0,   1, 172, 253, 222,  51,   0,   0,   0,   0,   0,   0,   0,   0, 125, 253, 243,   0,   0,   0,   0,   0,   0],\n",
       "       [  0,   0,   0,   0,   0,   0,  37, 253, 248, 102,   0,   0,   0,   0,   0,   0,   0,   0,   0, 146, 253, 243,   0,   0,   0,   0,   0,   0],\n",
       "       [  0,   0,   0,   0,   0,   0, 160, 253, 144,   0,   0,   0,   0,   0,   0,   0,   0,   0,   0, 228, 253, 203,   0,   0,   0,   0,   0,   0],\n",
       "       [  0,   0,   0,   0,   0,   0, 244, 253, 124,   0,   0,   0,   0,   0,   0,   0,   0,   0, 136, 253, 242,  74,   0,   0,   0,   0,   0,   0],\n",
       "       [  0,   0,   0,   0,   0,   0, 244, 253,  45,   0,   0,   0,   0,   0,   0,   0,   0,  60, 236, 253, 150,   0,   0,   0,   0,   0,   0,   0],\n",
       "       [  0,   0,   0,   0,   0,   0, 244, 253,  76,   0,   0,   0,   0,   0,   0,   0,  60, 241, 253, 230,  39,   0,   0,   0,   0,   0,   0,   0],\n",
       "       [  0,   0,   0,   0,   0,   0, 244, 253, 124,   0,   0,   0,   0,   0,   0,  62, 236, 253, 253,  98,   0,   0,   0,   0,   0,   0,   0,   0],\n",
       "       [  0,   0,   0,   0,   0,   0, 150, 253, 177,   7,   0,   0,   0,   5,  62, 241, 253, 251,  84,   3,   0,   0,   0,   0,   0,   0,   0,   0],\n",
       "       [  0,   0,   0,   0,   0,   0,  71, 253, 253, 166,   9,   0,  30, 148, 253, 253, 230,  79,   0,   0,   0,   0,   0,   0,   0,   0,   0,   0],\n",
       "       [  0,   0,   0,   0,   0,   0,   6, 188, 253, 253, 216, 140, 233, 253, 253, 209,  24,   0,   0,   0,   0,   0,   0,   0,   0,   0,   0,   0],\n",
       "       [  0,   0,   0,   0,   0,   0,   0,   0, 144, 253, 253, 253, 253, 218, 114,   2,   0,   0,   0,   0,   0,   0,   0,   0,   0,   0,   0,   0],\n",
       "       [  0,   0,   0,   0,   0,   0,   0,   0,   5, 148, 253, 228, 106,  18,   0,   0,   0,   0,   0,   0,   0,   0,   0,   0,   0,   0,   0,   0],\n",
       "       [  0,   0,   0,   0,   0,   0,   0,   0,   0,   0,   0,   0,   0,   0,   0,   0,   0,   0,   0,   0,   0,   0,   0,   0,   0,   0,   0,   0],\n",
       "       [  0,   0,   0,   0,   0,   0,   0,   0,   0,   0,   0,   0,   0,   0,   0,   0,   0,   0,   0,   0,   0,   0,   0,   0,   0,   0,   0,   0],\n",
       "       [  0,   0,   0,   0,   0,   0,   0,   0,   0,   0,   0,   0,   0,   0,   0,   0,   0,   0,   0,   0,   0,   0,   0,   0,   0,   0,   0,   0]], dtype=uint8)"
      ]
     },
     "execution_count": 36,
     "metadata": {},
     "output_type": "execute_result"
    }
   ],
   "source": [
    "# 옵션추가.\n",
    "np.set_printoptions(linewidth= np.inf)\n",
    "\n",
    "x_train[n]"
   ]
  },
  {
   "cell_type": "code",
   "execution_count": null,
   "metadata": {
    "colab": {
     "base_uri": "https://localhost:8080/",
     "height": 1000
    },
    "executionInfo": {
     "elapsed": 1441,
     "status": "ok",
     "timestamp": 1713147437395,
     "user": {
      "displayName": "허승빈",
      "userId": "05743957422728933959"
     },
     "user_tz": -540
    },
    "id": "hVPJiqKIdzF9",
    "outputId": "4b119fad-f8c4-4b58-ba6e-1a7c4c7fce37"
   },
   "outputs": [
    {
     "data": {
      "image/png": "[encoded data removed]",
      "text/plain": [
       "<Figure size 1000x1000 with 25 Axes>"
      ]
     },
     "metadata": {},
     "output_type": "display_data"
    }
   ],
   "source": [
    "plt.figure(figsize=(10,10))\n",
    "for i in range(25):\n",
    "    plt.subplot(5,5,i+1)\n",
    "    plt.xticks([])\n",
    "    plt.yticks([])\n",
    "    plt.imshow(x_train[i], cmap=plt.cm.binary)\n",
    "    plt.xlabel(class_names[y_train[i]])\n",
    "plt.tight_layout()\n",
    "plt.show()"
   ]
  },
  {
   "cell_type": "markdown",
   "metadata": {
    "id": "0sAU3j_cfCZs"
   },
   "source": [
    "## 3.데이터 준비"
   ]
  },
  {
   "cell_type": "markdown",
   "metadata": {
    "id": "xsthLeorZX85"
   },
   "source": [
    "### (1) 데이터 2차원으로 펼치기"
   ]
  },
  {
   "cell_type": "code",
   "execution_count": null,
   "metadata": {
    "colab": {
     "base_uri": "https://localhost:8080/"
    },
    "executionInfo": {
     "elapsed": 14,
     "status": "ok",
     "timestamp": 1713147437395,
     "user": {
      "displayName": "허승빈",
      "userId": "05743957422728933959"
     },
     "user_tz": -540
    },
    "id": "ogG9bgV5ZP39",
    "outputId": "42c6b4e3-93bd-408e-f7f0-971c15c20dd1"
   },
   "outputs": [
    {
     "data": {
      "text/plain": [
       "((60000, 28, 28), (60000,), (10000, 28, 28), (10000,))"
      ]
     },
     "execution_count": 38,
     "metadata": {},
     "output_type": "execute_result"
    }
   ],
   "source": [
    "x_train.shape, y_train.shape, x_val.shape, y_val.shape"
   ]
  },
  {
   "cell_type": "code",
   "execution_count": null,
   "metadata": {
    "colab": {
     "base_uri": "https://localhost:8080/"
    },
    "executionInfo": {
     "elapsed": 13,
     "status": "ok",
     "timestamp": 1713147437395,
     "user": {
      "displayName": "허승빈",
      "userId": "05743957422728933959"
     },
     "user_tz": -540
    },
    "id": "IJbj6ncBK3lI",
    "outputId": "8b0e641d-40df-4e0a-f799-7d60aa9fddc1"
   },
   "outputs": [
    {
     "data": {
      "text/plain": [
       "(array([[1, 2, 3],\n",
       "        [4, 5, 6]]),\n",
       " (2, 3))"
      ]
     },
     "execution_count": 39,
     "metadata": {},
     "output_type": "execute_result"
    }
   ],
   "source": [
    "a = np.array([[1,2,3],[4,5,6]])\n",
    "a, a.shape"
   ]
  },
  {
   "cell_type": "code",
   "execution_count": null,
   "metadata": {
    "colab": {
     "base_uri": "https://localhost:8080/"
    },
    "executionInfo": {
     "elapsed": 12,
     "status": "ok",
     "timestamp": 1713147437395,
     "user": {
      "displayName": "허승빈",
      "userId": "05743957422728933959"
     },
     "user_tz": -540
    },
    "id": "OOrLCthuLELq",
    "outputId": "0a389d18-8c3b-4d0c-9879-07e4845ed6f2"
   },
   "outputs": [
    {
     "name": "stdout",
     "output_type": "stream",
     "text": [
      "[[1 2]\n",
      " [3 4]\n",
      " [5 6]]\n",
      "[[1]\n",
      " [2]\n",
      " [3]\n",
      " [4]\n",
      " [5]\n",
      " [6]]\n",
      "[[1]\n",
      " [2]\n",
      " [3]\n",
      " [4]\n",
      " [5]\n",
      " [6]]\n"
     ]
    }
   ],
   "source": [
    "#\n",
    "print(a.reshape(3,2))\n",
    "print(a.reshape(6,1))\n",
    "print(a.reshape(6, -1)) # -1: 알아서 채워줘"
   ]
  },
  {
   "cell_type": "code",
   "execution_count": null,
   "metadata": {
    "id": "QyfbQ3LGZeUX"
   },
   "outputs": [],
   "source": [
    "x_train = x_train.reshape(60000, -1)\n",
    "x_val = x_val.reshape(10000, -1)"
   ]
  },
  {
   "cell_type": "code",
   "execution_count": null,
   "metadata": {
    "colab": {
     "base_uri": "https://localhost:8080/"
    },
    "executionInfo": {
     "elapsed": 11,
     "status": "ok",
     "timestamp": 1713147437395,
     "user": {
      "displayName": "허승빈",
      "userId": "05743957422728933959"
     },
     "user_tz": -540
    },
    "id": "bCoo5Tr2Zm5g",
    "outputId": "f2587c5f-d80a-4c77-c39f-3362d7bb1fe4"
   },
   "outputs": [
    {
     "data": {
      "text/plain": [
       "((60000, 784), (10000, 784))"
      ]
     },
     "execution_count": 42,
     "metadata": {},
     "output_type": "execute_result"
    }
   ],
   "source": [
    "x_train.shape, x_val.shape"
   ]
  },
  {
   "cell_type": "markdown",
   "metadata": {
    "id": "n-usD8VAeq16"
   },
   "source": [
    "### (2) Scaling : Min-Max\n",
    "* 0-255 값으로 되어 있는 데이터를 0-1사이 값으로 변환\n",
    "* x_train, x_val를 그냥 255로 나누면 됨"
   ]
  },
  {
   "cell_type": "code",
   "execution_count": null,
   "metadata": {
    "id": "8WLAP6L0ft-j"
   },
   "outputs": [],
   "source": [
    "x_train = x_train / 255\n",
    "x_val = x_val / 255"
   ]
  },
  {
   "cell_type": "markdown",
   "metadata": {
    "id": "HF_jSSfWf3tB"
   },
   "source": [
    "## 4.모델링"
   ]
  },
  {
   "cell_type": "code",
   "execution_count": null,
   "metadata": {
    "colab": {
     "base_uri": "https://localhost:8080/"
    },
    "executionInfo": {
     "elapsed": 9,
     "status": "ok",
     "timestamp": 1713147437395,
     "user": {
      "displayName": "허승빈",
      "userId": "05743957422728933959"
     },
     "user_tz": -540
    },
    "id": "79YLozfrhnHg",
    "outputId": "38b6dca6-ea7d-4dea-806d-a315d160fd18"
   },
   "outputs": [
    {
     "data": {
      "text/plain": [
       "array([5, 0, 4, ..., 5, 6, 8], dtype=uint8)"
      ]
     },
     "execution_count": 44,
     "metadata": {},
     "output_type": "execute_result"
    }
   ],
   "source": [
    "y_train"
   ]
  },
  {
   "cell_type": "code",
   "execution_count": null,
   "metadata": {
    "colab": {
     "base_uri": "https://localhost:8080/"
    },
    "executionInfo": {
     "elapsed": 7,
     "status": "ok",
     "timestamp": 1713147437395,
     "user": {
      "displayName": "허승빈",
      "userId": "05743957422728933959"
     },
     "user_tz": -540
    },
    "id": "jd5P74qnaITT",
    "outputId": "ba9b5894-8831-428b-87ce-fb40ccb44602"
   },
   "outputs": [
    {
     "data": {
      "text/plain": [
       "784"
      ]
     },
     "execution_count": 45,
     "metadata": {},
     "output_type": "execute_result"
    }
   ],
   "source": [
    "nfeatures = x_train.shape[1]\n",
    "nfeatures"
   ]
  },
  {
   "cell_type": "code",
   "execution_count": null,
   "metadata": {
    "colab": {
     "base_uri": "https://localhost:8080/"
    },
    "executionInfo": {
     "elapsed": 6,
     "status": "ok",
     "timestamp": 1713147437395,
     "user": {
      "displayName": "허승빈",
      "userId": "05743957422728933959"
     },
     "user_tz": -540
    },
    "id": "o2kfCpFxHXFB",
    "outputId": "cd8ab470-69ca-42bc-d420-b2b17fba43da"
   },
   "outputs": [
    {
     "name": "stdout",
     "output_type": "stream",
     "text": [
      "Model: \"sequential\"\n",
      "_________________________________________________________________\n",
      " Layer (type)                Output Shape              Param #   \n",
      "=================================================================\n",
      " dense (Dense)               (None, 10)                7850      \n",
      "                                                                 \n",
      "=================================================================\n",
      "Total params: 7850 (30.66 KB)\n",
      "Trainable params: 7850 (30.66 KB)\n",
      "Non-trainable params: 0 (0.00 Byte)\n",
      "_________________________________________________________________\n"
     ]
    }
   ],
   "source": [
    "clear_session()\n",
    "\n",
    "model = Sequential(Dense(10, input_shape = (nfeatures,), activation = 'softmax'))\n",
    "\n",
    "model.summary()"
   ]
  },
  {
   "cell_type": "code",
   "execution_count": null,
   "metadata": {
    "colab": {
     "base_uri": "https://localhost:8080/"
    },
    "executionInfo": {
     "elapsed": 78760,
     "status": "ok",
     "timestamp": 1713147516151,
     "user": {
      "displayName": "허승빈",
      "userId": "05743957422728933959"
     },
     "user_tz": -540
    },
    "id": "weEOywIwoNyH",
    "outputId": "0fc56587-b267-4f3e-c3e9-450fd279ff4c"
   },
   "outputs": [
    {
     "name": "stdout",
     "output_type": "stream",
     "text": [
      "Epoch 1/20\n",
      "1500/1500 [==============================] - 5s 3ms/step - loss: 0.5133 - val_loss: 0.3179\n",
      "Epoch 2/20\n",
      "1500/1500 [==============================] - 5s 4ms/step - loss: 0.3176 - val_loss: 0.2885\n",
      "Epoch 3/20\n",
      "1500/1500 [==============================] - 4s 2ms/step - loss: 0.2930 - val_loss: 0.2757\n",
      "Epoch 4/20\n",
      "1500/1500 [==============================] - 4s 3ms/step - loss: 0.2810 - val_loss: 0.2720\n",
      "Epoch 5/20\n",
      "1500/1500 [==============================] - 4s 3ms/step - loss: 0.2737 - val_loss: 0.2714\n",
      "Epoch 6/20\n",
      "1500/1500 [==============================] - 4s 2ms/step - loss: 0.2680 - val_loss: 0.2668\n",
      "Epoch 7/20\n",
      "1500/1500 [==============================] - 4s 3ms/step - loss: 0.2643 - val_loss: 0.2629\n",
      "Epoch 8/20\n",
      "1500/1500 [==============================] - 4s 2ms/step - loss: 0.2604 - val_loss: 0.2616\n",
      "Epoch 9/20\n",
      "1500/1500 [==============================] - 4s 2ms/step - loss: 0.2576 - val_loss: 0.2631\n",
      "Epoch 10/20\n",
      "1500/1500 [==============================] - 4s 3ms/step - loss: 0.2551 - val_loss: 0.2624\n",
      "Epoch 11/20\n",
      "1500/1500 [==============================] - 3s 2ms/step - loss: 0.2531 - val_loss: 0.2608\n",
      "Epoch 12/20\n",
      "1500/1500 [==============================] - 4s 2ms/step - loss: 0.2516 - val_loss: 0.2621\n",
      "Epoch 13/20\n",
      "1500/1500 [==============================] - 5s 3ms/step - loss: 0.2492 - val_loss: 0.2674\n",
      "Epoch 14/20\n",
      "1500/1500 [==============================] - 4s 2ms/step - loss: 0.2482 - val_loss: 0.2623\n",
      "Epoch 15/20\n",
      "1500/1500 [==============================] - 4s 2ms/step - loss: 0.2465 - val_loss: 0.2611\n",
      "Epoch 16/20\n",
      "1500/1500 [==============================] - 4s 2ms/step - loss: 0.2452 - val_loss: 0.2631\n",
      "Epoch 17/20\n",
      "1500/1500 [==============================] - 4s 2ms/step - loss: 0.2442 - val_loss: 0.2615\n",
      "Epoch 18/20\n",
      "1500/1500 [==============================] - 3s 2ms/step - loss: 0.2433 - val_loss: 0.2640\n",
      "Epoch 19/20\n",
      "1500/1500 [==============================] - 4s 2ms/step - loss: 0.2422 - val_loss: 0.2632\n",
      "Epoch 20/20\n",
      "1500/1500 [==============================] - 4s 3ms/step - loss: 0.2413 - val_loss: 0.2653\n"
     ]
    }
   ],
   "source": [
    "# 이미 integer encoding 되어있음\n",
    "model.compile(optimizer=Adam(learning_rate=0.001), loss= 'sparse_categorical_crossentropy' )\n",
    "\n",
    "history = model.fit(x_train, y_train, epochs = 20, validation_split=0.2).history"
   ]
  },
  {
   "cell_type": "markdown",
   "metadata": {
    "id": "3N8dEQk0SKD9"
   },
   "source": [
    "* 학습결과 그래프"
   ]
  },
  {
   "cell_type": "code",
   "execution_count": null,
   "metadata": {
    "colab": {
     "base_uri": "https://localhost:8080/",
     "height": 542
    },
    "executionInfo": {
     "elapsed": 551,
     "status": "ok",
     "timestamp": 1713147526776,
     "user": {
      "displayName": "허승빈",
      "userId": "05743957422728933959"
     },
     "user_tz": -540
    },
    "id": "uL9cw8Dh2Y94",
    "outputId": "aef7cabe-1c1e-4159-adda-0abb415c0025"
   },
   "outputs": [
    {
     "data": {
      "image/png": "[encoded data removed]",
      "text/plain": [
       "<Figure size 1000x600 with 1 Axes>"
      ]
     },
     "metadata": {},
     "output_type": "display_data"
    }
   ],
   "source": [
    "dl_history_plot(history)"
   ]
  },
  {
   "cell_type": "markdown",
   "metadata": {
    "id": "Kcl-T-ExwrOc"
   },
   "source": [
    "* 예측 및 평가"
   ]
  },
  {
   "cell_type": "code",
   "execution_count": null,
   "metadata": {
    "colab": {
     "base_uri": "https://localhost:8080/"
    },
    "executionInfo": {
     "elapsed": 920,
     "status": "ok",
     "timestamp": 1713147622517,
     "user": {
      "displayName": "허승빈",
      "userId": "05743957422728933959"
     },
     "user_tz": -540
    },
    "id": "leuROYjBiR0A",
    "outputId": "8a11181e-d1db-4717-9ef9-aa22167b3133"
   },
   "outputs": [
    {
     "name": "stdout",
     "output_type": "stream",
     "text": [
      "313/313 [==============================] - 0s 1ms/step\n"
     ]
    },
    {
     "data": {
      "text/plain": [
       "array([[3.05524885e-08, 1.15340490e-13, 3.92054346e-07, 4.50086687e-03, 1.22648160e-07, 1.54978970e-05, 6.57201259e-15, 9.95269597e-01, 4.78206994e-06, 2.08682002e-04],\n",
       "       [1.55927337e-05, 8.35978608e-06, 9.98394310e-01, 1.90772221e-06, 2.25409046e-16, 2.19444992e-04, 1.35239924e-03, 2.73201378e-21, 7.93699655e-06, 1.39874112e-18],\n",
       "       [5.49401364e-07, 9.87979054e-01, 7.98339769e-03, 1.14538777e-03, 1.01708982e-04, 5.27127646e-04, 4.41393291e-04, 7.12194960e-05, 1.60144665e-03, 1.48606981e-04],\n",
       "       [9.99773920e-01, 1.19662995e-11, 4.89828235e-05, 3.11318581e-06, 3.91688246e-08, 2.56295880e-05, 1.33820620e-04, 6.11314726e-06, 2.50486664e-06, 5.92669312e-06],\n",
       "       [1.91478466e-04, 3.88372108e-08, 1.48361491e-03, 9.39539314e-06, 9.79721189e-01, 4.25476246e-05, 1.10481144e-03, 1.42026029e-03, 1.52461440e-03, 1.45021975e-02]], dtype=float32)"
      ]
     },
     "execution_count": 51,
     "metadata": {},
     "output_type": "execute_result"
    }
   ],
   "source": [
    "pred = model.predict(x_val)\n",
    "pred[:5]"
   ]
  },
  {
   "cell_type": "code",
   "execution_count": null,
   "metadata": {
    "colab": {
     "base_uri": "https://localhost:8080/"
    },
    "executionInfo": {
     "elapsed": 2,
     "status": "ok",
     "timestamp": 1713147869422,
     "user": {
      "displayName": "허승빈",
      "userId": "05743957422728933959"
     },
     "user_tz": -540
    },
    "id": "iWpqKvt78PmD",
    "outputId": "38438979-68b4-4da1-c81c-7e9844c5644a"
   },
   "outputs": [
    {
     "data": {
      "text/plain": [
       "array([7, 2, 1, 0, 4])"
      ]
     },
     "execution_count": 54,
     "metadata": {},
     "output_type": "execute_result"
    }
   ],
   "source": [
    "pred_1 = pred.argmax(axis=1)\n",
    "pred_1[:5]"
   ]
  },
  {
   "cell_type": "code",
   "execution_count": null,
   "metadata": {
    "colab": {
     "base_uri": "https://localhost:8080/"
    },
    "executionInfo": {
     "elapsed": 2,
     "status": "ok",
     "timestamp": 1713147870100,
     "user": {
      "displayName": "허승빈",
      "userId": "05743957422728933959"
     },
     "user_tz": -540
    },
    "id": "IONbKHSLX9PA",
    "outputId": "60aedd3f-71e6-4172-8489-23824ed6bcbb"
   },
   "outputs": [
    {
     "name": "stdout",
     "output_type": "stream",
     "text": [
      "[[ 954    0    0    2    1    7   13    2    1    0]\n",
      " [   0 1121    3    2    0    1    3    2    3    0]\n",
      " [   3   13  944   13    8    4   13    8   22    4]\n",
      " [   2    0   23  920    1   29    2   10   13   10]\n",
      " [   1    1    7    1  918    0    9    4    5   36]\n",
      " [   7    2    3   33    7  790   15    6   23    6]\n",
      " [   9    3    9    1    6   16  911    1    2    0]\n",
      " [   1    6   24    7    6    1    0  948    1   34]\n",
      " [   8   11    8   29    8   46   12   11  826   15]\n",
      " [  11    8    1   12   23    6    0   24    4  920]]\n",
      "              precision    recall  f1-score   support\n",
      "\n",
      "           0       0.96      0.97      0.97       980\n",
      "           1       0.96      0.99      0.97      1135\n",
      "           2       0.92      0.91      0.92      1032\n",
      "           3       0.90      0.91      0.91      1010\n",
      "           4       0.94      0.93      0.94       982\n",
      "           5       0.88      0.89      0.88       892\n",
      "           6       0.93      0.95      0.94       958\n",
      "           7       0.93      0.92      0.93      1028\n",
      "           8       0.92      0.85      0.88       974\n",
      "           9       0.90      0.91      0.90      1009\n",
      "\n",
      "    accuracy                           0.93     10000\n",
      "   macro avg       0.92      0.92      0.92     10000\n",
      "weighted avg       0.93      0.93      0.92     10000\n",
      "\n"
     ]
    }
   ],
   "source": [
    "print(confusion_matrix(y_val, pred_1))\n",
    "print(classification_report(y_val, pred_1))"
   ]
  },
  {
   "cell_type": "markdown",
   "metadata": {
    "id": "n-6ejz9fw0PN"
   },
   "source": [
    "## 5.실습\n",
    "\n",
    "* 히든레이어를 추가하여 모델을 2가지 이상 만들고 성능을 비교.\n",
    "* 성능에 영향을 주는 요인은\n",
    "    * 히든레이어 수\n",
    "    * 노드수\n",
    "    * epochs 수 (10~20 사이에서 정함)\n",
    "    * learning_rate"
   ]
  },
  {
   "cell_type": "markdown",
   "metadata": {
    "id": "xzQs77eMauXp"
   },
   "source": [
    "### (1) 모델1"
   ]
  },
  {
   "cell_type": "code",
   "execution_count": null,
   "metadata": {
    "colab": {
     "base_uri": "https://localhost:8080/"
    },
    "executionInfo": {
     "elapsed": 461,
     "status": "ok",
     "timestamp": 1713149008654,
     "user": {
      "displayName": "허승빈",
      "userId": "05743957422728933959"
     },
     "user_tz": -540
    },
    "id": "yK0GG8T6-GL5",
    "outputId": "bb754910-ec06-4eb0-90ac-58ed8195cb5d"
   },
   "outputs": [
    {
     "name": "stdout",
     "output_type": "stream",
     "text": [
      "Model: \"sequential\"\n",
      "_________________________________________________________________\n",
      " Layer (type)                Output Shape              Param #   \n",
      "=================================================================\n",
      " dense (Dense)               (None, 512)               401920    \n",
      "                                                                 \n",
      " dense_1 (Dense)             (None, 128)               65664     \n",
      "                                                                 \n",
      " dense_2 (Dense)             (None, 64)                8256      \n",
      "                                                                 \n",
      " dense_3 (Dense)             (None, 10)                650       \n",
      "                                                                 \n",
      "=================================================================\n",
      "Total params: 476490 (1.82 MB)\n",
      "Trainable params: 476490 (1.82 MB)\n",
      "Non-trainable params: 0 (0.00 Byte)\n",
      "_________________________________________________________________\n"
     ]
    }
   ],
   "source": [
    "clear_session()\n",
    "\n",
    "model2 = Sequential([Dense(512, input_shape=(nfeatures,), activation='relu'),\n",
    "                     Dense(128, activation='relu'),\n",
    "                     Dense(64, activation='relu'),\n",
    "                     Dense(10, activation='softmax')])\n",
    "model2.summary()"
   ]
  },
  {
   "cell_type": "code",
   "execution_count": null,
   "metadata": {
    "id": "xSlyX5Xa-GIt"
   },
   "outputs": [],
   "source": [
    "model2.compile(optimizer=Adam(0.001), loss='sparse_categorical_crossentropy')\n",
    "\n",
    "hist2 = model2.fit(x_train, y_train, epochs=15, validation_split=.2, verbose=0).history"
   ]
  },
  {
   "cell_type": "code",
   "execution_count": null,
   "metadata": {
    "colab": {
     "base_uri": "https://localhost:8080/",
     "height": 542
    },
    "executionInfo": {
     "elapsed": 27,
     "status": "ok",
     "timestamp": 1713149093606,
     "user": {
      "displayName": "허승빈",
      "userId": "05743957422728933959"
     },
     "user_tz": -540
    },
    "id": "5OAUUYvZ-GGT",
    "outputId": "9dbe29dd-f782-451c-a72b-40eb161f3048"
   },
   "outputs": [
    {
     "data": {
      "image/png": "[encoded data removed]",
      "text/plain": [
       "<Figure size 1000x600 with 1 Axes>"
      ]
     },
     "metadata": {},
     "output_type": "display_data"
    }
   ],
   "source": [
    "dl_history_plot(hist2)"
   ]
  },
  {
   "cell_type": "code",
   "execution_count": null,
   "metadata": {
    "colab": {
     "base_uri": "https://localhost:8080/"
    },
    "executionInfo": {
     "elapsed": 700,
     "status": "ok",
     "timestamp": 1713149094299,
     "user": {
      "displayName": "허승빈",
      "userId": "05743957422728933959"
     },
     "user_tz": -540
    },
    "id": "I9Q4JMBj-GDe",
    "outputId": "11941c07-572b-455d-f0e8-423d864c856d"
   },
   "outputs": [
    {
     "name": "stdout",
     "output_type": "stream",
     "text": [
      "313/313 [==============================] - 1s 2ms/step\n"
     ]
    },
    {
     "data": {
      "text/plain": [
       "array([[4.4925207e-24, 2.8011371e-15, 2.9170571e-16, 1.5119477e-15, 2.4336731e-20, 3.0346897e-19, 3.6752410e-26, 1.0000000e+00, 5.7740321e-18, 2.4166402e-10],\n",
       "       [1.9799312e-14, 7.4428912e-15, 1.0000000e+00, 7.3025050e-13, 3.0641698e-17, 1.7957245e-20, 8.9998917e-22, 4.0937546e-14, 6.9348086e-16, 6.5168952e-21],\n",
       "       [4.3463093e-13, 1.0000000e+00, 5.9678464e-12, 2.3684066e-14, 3.3619166e-11, 1.3050268e-12, 2.3793177e-11, 8.8126834e-10, 4.8813593e-09, 3.8960735e-13],\n",
       "       [9.9999714e-01, 2.6746057e-11, 1.3583276e-06, 5.0022566e-11, 1.4693095e-09, 3.8402112e-10, 1.4278889e-06, 1.0218331e-07, 2.9630054e-10, 3.0035736e-08],\n",
       "       [2.3145540e-13, 8.0703006e-13, 4.8203759e-13, 9.1518928e-14, 9.9999774e-01, 3.1908493e-12, 1.6497990e-12, 2.5875095e-09, 2.1680804e-10, 2.2148074e-06]], dtype=float32)"
      ]
     },
     "execution_count": 73,
     "metadata": {},
     "output_type": "execute_result"
    }
   ],
   "source": [
    "pred2 = model2.predict(x_val)\n",
    "pred2[:5]"
   ]
  },
  {
   "cell_type": "code",
   "execution_count": null,
   "metadata": {
    "colab": {
     "base_uri": "https://localhost:8080/"
    },
    "executionInfo": {
     "elapsed": 6,
     "status": "ok",
     "timestamp": 1713149094299,
     "user": {
      "displayName": "허승빈",
      "userId": "05743957422728933959"
     },
     "user_tz": -540
    },
    "id": "urLTObbnoJq4",
    "outputId": "08377010-7a63-4eb4-a48b-db18d40a94fe"
   },
   "outputs": [
    {
     "data": {
      "text/plain": [
       "array([7, 2, 1, 0, 4])"
      ]
     },
     "execution_count": 74,
     "metadata": {},
     "output_type": "execute_result"
    }
   ],
   "source": [
    "pred2 = pred2.argmax(axis=1)\n",
    "pred2[:5]"
   ]
  },
  {
   "cell_type": "code",
   "execution_count": null,
   "metadata": {
    "colab": {
     "base_uri": "https://localhost:8080/"
    },
    "executionInfo": {
     "elapsed": 3,
     "status": "ok",
     "timestamp": 1713149094299,
     "user": {
      "displayName": "허승빈",
      "userId": "05743957422728933959"
     },
     "user_tz": -540
    },
    "id": "JYNw-ph_-GAb",
    "outputId": "926b69fa-4a95-4a9e-b334-c758e8d80241"
   },
   "outputs": [
    {
     "name": "stdout",
     "output_type": "stream",
     "text": [
      "[[ 973    1    0    2    0    0    2    1    1    0]\n",
      " [   1 1121    2    1    0    3    1    2    3    1]\n",
      " [   3    0 1003   11    0    0    2    9    3    1]\n",
      " [   0    0    1  997    0    6    0    3    1    2]\n",
      " [   2    0    1    0  950    0    4    3    0   22]\n",
      " [   3    0    0    8    0  872    2    1    2    4]\n",
      " [   4    2    0    0    4    8  937    0    3    0]\n",
      " [   1    0    4    2    0    0    0 1017    2    2]\n",
      " [   2    0    3    8    1    7    1    6  941    5]\n",
      " [   4    2    0    4    3    7    0   11    2  976]]\n",
      "              precision    recall  f1-score   support\n",
      "\n",
      "           0       0.98      0.99      0.99       980\n",
      "           1       1.00      0.99      0.99      1135\n",
      "           2       0.99      0.97      0.98      1032\n",
      "           3       0.97      0.99      0.98      1010\n",
      "           4       0.99      0.97      0.98       982\n",
      "           5       0.97      0.98      0.97       892\n",
      "           6       0.99      0.98      0.98       958\n",
      "           7       0.97      0.99      0.98      1028\n",
      "           8       0.98      0.97      0.97       974\n",
      "           9       0.96      0.97      0.97      1009\n",
      "\n",
      "    accuracy                           0.98     10000\n",
      "   macro avg       0.98      0.98      0.98     10000\n",
      "weighted avg       0.98      0.98      0.98     10000\n",
      "\n"
     ]
    }
   ],
   "source": [
    "print(confusion_matrix(y_val, pred2))\n",
    "print(classification_report(y_val, pred2))"
   ]
  },
  {
   "cell_type": "markdown",
   "metadata": {
    "id": "YC5zRh2BxHgb"
   },
   "source": [
    "### (2) 모델2"
   ]
  },
  {
   "cell_type": "code",
   "execution_count": null,
   "metadata": {
    "colab": {
     "base_uri": "https://localhost:8080/"
    },
    "executionInfo": {
     "elapsed": 377,
     "status": "ok",
     "timestamp": 1713150011134,
     "user": {
      "displayName": "허승빈",
      "userId": "05743957422728933959"
     },
     "user_tz": -540
    },
    "id": "QfZorGbliHH3",
    "outputId": "2d1682f5-d147-4fc1-b7c7-f247937ea8ed"
   },
   "outputs": [
    {
     "name": "stdout",
     "output_type": "stream",
     "text": [
      "Model: \"sequential\"\n",
      "_________________________________________________________________\n",
      " Layer (type)                Output Shape              Param #   \n",
      "=================================================================\n",
      " dense (Dense)               (None, 64)                50240     \n",
      "                                                                 \n",
      " dense_1 (Dense)             (None, 32)                2080      \n",
      "                                                                 \n",
      " dense_2 (Dense)             (None, 16)                528       \n",
      "                                                                 \n",
      " dense_3 (Dense)             (None, 10)                170       \n",
      "                                                                 \n",
      "=================================================================\n",
      "Total params: 53018 (207.10 KB)\n",
      "Trainable params: 53018 (207.10 KB)\n",
      "Non-trainable params: 0 (0.00 Byte)\n",
      "_________________________________________________________________\n"
     ]
    }
   ],
   "source": [
    "clear_session()\n",
    "\n",
    "model3 = Sequential([Dense(64, input_shape=(nfeatures,), activation='relu'),\n",
    "                     Dense(32, activation='relu'),\n",
    "                     Dense(16, activation='relu'),\n",
    "                     Dense(10, activation='softmax')])\n",
    "model3.summary()"
   ]
  },
  {
   "cell_type": "code",
   "execution_count": null,
   "metadata": {
    "id": "eMA99e-FiHH4"
   },
   "outputs": [],
   "source": [
    "model3.compile(optimizer=Adam(0.001), loss='sparse_categorical_crossentropy')\n",
    "\n",
    "hist3 = model3.fit(x_train, y_train, epochs=10, validation_split=.2, verbose=0).history"
   ]
  },
  {
   "cell_type": "code",
   "execution_count": null,
   "metadata": {
    "colab": {
     "base_uri": "https://localhost:8080/",
     "height": 542
    },
    "executionInfo": {
     "elapsed": 614,
     "status": "ok",
     "timestamp": 1713150054571,
     "user": {
      "displayName": "허승빈",
      "userId": "05743957422728933959"
     },
     "user_tz": -540
    },
    "id": "DC_RTJq0rpgq",
    "outputId": "8f463cb5-da18-4d2a-faec-baf842d68587"
   },
   "outputs": [
    {
     "data": {
      "image/png": "[encoded data removed]",
      "text/plain": [
       "<Figure size 1000x600 with 1 Axes>"
      ]
     },
     "metadata": {},
     "output_type": "display_data"
    }
   ],
   "source": [
    "dl_history_plot(hist3)"
   ]
  },
  {
   "cell_type": "code",
   "execution_count": null,
   "metadata": {
    "colab": {
     "base_uri": "https://localhost:8080/"
    },
    "executionInfo": {
     "elapsed": 544,
     "status": "ok",
     "timestamp": 1713150055105,
     "user": {
      "displayName": "허승빈",
      "userId": "05743957422728933959"
     },
     "user_tz": -540
    },
    "id": "oRRniqxfiHH4",
    "outputId": "1bbe9a08-91d2-4cc0-8cc2-94a6d5f31bb6"
   },
   "outputs": [
    {
     "name": "stdout",
     "output_type": "stream",
     "text": [
      "313/313 [==============================] - 1s 1ms/step\n"
     ]
    },
    {
     "data": {
      "text/plain": [
       "array([[5.30494120e-08, 2.10862150e-09, 5.85360021e-06, 6.45388718e-06, 6.24170464e-12, 8.34337541e-08, 9.59663904e-10, 9.99983430e-01, 5.42517114e-07, 3.56771193e-06],\n",
       "       [2.23387946e-16, 7.48465527e-06, 9.99991059e-01, 1.20266873e-06, 1.95081137e-16, 2.66746753e-07, 5.08332352e-12, 4.42464050e-15, 9.64560810e-12, 4.26984577e-17],\n",
       "       [5.47482781e-10, 9.99966860e-01, 1.57742909e-06, 2.92634503e-08, 1.61646895e-07, 1.07670509e-07, 6.68872957e-08, 2.90810494e-05, 2.15814475e-06, 2.58308996e-09],\n",
       "       [9.99987006e-01, 5.33073238e-12, 5.70407383e-06, 2.40353370e-06, 9.62826796e-09, 1.83271140e-07, 2.30542355e-06, 3.61091068e-09, 2.09354596e-08, 2.36049345e-06],\n",
       "       [9.53903189e-12, 4.53250992e-09, 6.55295951e-09, 6.02809802e-10, 9.99927878e-01, 5.37356160e-10, 2.66877297e-12, 1.32160756e-06, 1.02074786e-10, 7.08427760e-05]], dtype=float32)"
      ]
     },
     "execution_count": 100,
     "metadata": {},
     "output_type": "execute_result"
    }
   ],
   "source": [
    "pred3 = model3.predict(x_val)\n",
    "pred3[:5]"
   ]
  },
  {
   "cell_type": "code",
   "execution_count": null,
   "metadata": {
    "colab": {
     "base_uri": "https://localhost:8080/"
    },
    "executionInfo": {
     "elapsed": 11,
     "status": "ok",
     "timestamp": 1713150055106,
     "user": {
      "displayName": "허승빈",
      "userId": "05743957422728933959"
     },
     "user_tz": -540
    },
    "id": "Zrg0v299iHH4",
    "outputId": "86b76fe7-5273-4d13-f8a4-f150d16e1eb9"
   },
   "outputs": [
    {
     "data": {
      "text/plain": [
       "array([7, 2, 1, 0, 4])"
      ]
     },
     "execution_count": 101,
     "metadata": {},
     "output_type": "execute_result"
    }
   ],
   "source": [
    "pred3 = pred3.argmax(axis=1)\n",
    "pred3[:5]"
   ]
  },
  {
   "cell_type": "code",
   "execution_count": null,
   "metadata": {
    "colab": {
     "base_uri": "https://localhost:8080/"
    },
    "executionInfo": {
     "elapsed": 8,
     "status": "ok",
     "timestamp": 1713150055106,
     "user": {
      "displayName": "허승빈",
      "userId": "05743957422728933959"
     },
     "user_tz": -540
    },
    "id": "aufSpuJ_iHH4",
    "outputId": "223b3a83-b882-4c81-cef4-1b4649a580ee"
   },
   "outputs": [
    {
     "name": "stdout",
     "output_type": "stream",
     "text": [
      "[[ 972    0    1    1    0    1    1    1    3    0]\n",
      " [   0 1128    1    0    0    1    2    1    2    0]\n",
      " [   6    3  970    5    2    1    2   23   20    0]\n",
      " [   1    1    5  983    0    4    0    6    9    1]\n",
      " [   2    0    3    0  954    0    4    3    0   16]\n",
      " [   2    0    0    9    1  860    5    1   12    2]\n",
      " [   6    1    0    0   10    4  930    0    7    0]\n",
      " [   1    3    5    2    0    1    0 1009    2    5]\n",
      " [   4    0    1    4    5    4    1    4  945    6]\n",
      " [   2    2    0    9   10    4    0    4    5  973]]\n",
      "              precision    recall  f1-score   support\n",
      "\n",
      "           0       0.98      0.99      0.98       980\n",
      "           1       0.99      0.99      0.99      1135\n",
      "           2       0.98      0.94      0.96      1032\n",
      "           3       0.97      0.97      0.97      1010\n",
      "           4       0.97      0.97      0.97       982\n",
      "           5       0.98      0.96      0.97       892\n",
      "           6       0.98      0.97      0.98       958\n",
      "           7       0.96      0.98      0.97      1028\n",
      "           8       0.94      0.97      0.96       974\n",
      "           9       0.97      0.96      0.97      1009\n",
      "\n",
      "    accuracy                           0.97     10000\n",
      "   macro avg       0.97      0.97      0.97     10000\n",
      "weighted avg       0.97      0.97      0.97     10000\n",
      "\n"
     ]
    }
   ],
   "source": [
    "print(confusion_matrix(y_val, pred3))\n",
    "print(classification_report(y_val, pred3))"
   ]
  }
 ],
 "metadata": {
  "accelerator": "GPU",
  "colab": {
   "provenance": []
  },
  "gpuClass": "standard",
  "kernelspec": {
   "display_name": "Python 3",
   "name": "python3"
  }
 },
 "nbformat": 4,
 "nbformat_minor": 0
}
