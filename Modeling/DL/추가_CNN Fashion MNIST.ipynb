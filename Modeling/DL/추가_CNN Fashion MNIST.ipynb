{
 "cells": [
  {
   "cell_type": "markdown",
   "metadata": {
    "id": "P2n_mLirFD6s"
   },
   "source": [
    "#  추가실습 : CNN Fashion MNIST\n",
    "* 본 파일은 GPU 런타임으로 연결.\n",
    "* 경우에 따라서는 GPU 연결이 원할하지 않을 수도 있음."
   ]
  },
  {
   "cell_type": "markdown",
   "metadata": {
    "id": "gIN5d51gtker"
   },
   "source": [
    "## 1.환경준비"
   ]
  },
  {
   "cell_type": "markdown",
   "metadata": {
    "id": "98K82DAxvX6I"
   },
   "source": [
    "### (1) 라이브러리 로딩"
   ]
  },
  {
   "cell_type": "code",
   "execution_count": null,
   "metadata": {
    "id": "qUG9ltiWCJXr"
   },
   "outputs": [],
   "source": [
    "import pandas as pd\n",
    "import numpy as np\n",
    "import matplotlib.pyplot as plt\n",
    "import seaborn as sns\n",
    "import random as rd\n",
    "\n",
    "from sklearn.model_selection import train_test_split\n",
    "from sklearn.metrics import *\n",
    "\n",
    "from keras.models import Sequential\n",
    "from keras.layers import Dense, Flatten, Conv2D, MaxPooling2D\n",
    "from keras.backend import clear_session\n",
    "from keras.optimizers import Adam\n",
    "from keras.datasets import mnist, fashion_mnist"
   ]
  },
  {
   "cell_type": "markdown",
   "metadata": {
    "id": "_h70-6MP7wtO"
   },
   "source": [
    "* 함수 만들기"
   ]
  },
  {
   "cell_type": "code",
   "execution_count": null,
   "metadata": {
    "id": "JWswaopv7yBI"
   },
   "outputs": [],
   "source": [
    "# 학습곡선 함수\n",
    "def dl_history_plot(history):\n",
    "    plt.figure(figsize=(10,6))\n",
    "    plt.plot(history['loss'], label='train_err')\n",
    "    plt.plot(history['val_loss'], label='val_err')\n",
    "\n",
    "    plt.ylabel('Loss')\n",
    "    plt.xlabel('Epoch')\n",
    "    plt.legend()\n",
    "    plt.grid()\n",
    "    plt.show()"
   ]
  },
  {
   "cell_type": "markdown",
   "metadata": {
    "id": "6wuqykgvviCc"
   },
   "source": [
    "### (2) 데이터로딩"
   ]
  },
  {
   "cell_type": "markdown",
   "metadata": {
    "id": "31-mY5gZAO2-"
   },
   "source": [
    "![fashion class](https://user-images.githubusercontent.com/60168331/117663987-35e42e00-b1dc-11eb-88c7-64db3b4fbff0.png)"
   ]
  },
  {
   "cell_type": "code",
   "execution_count": null,
   "metadata": {
    "id": "uHH4W8B0BYJp"
   },
   "outputs": [],
   "source": [
    "# 케라스 데이터셋으로 부터 fashion_mnist 불러오기\n",
    "(x_train, y_train), (x_val, y_val) = fashion_mnist.load_data()"
   ]
  },
  {
   "cell_type": "code",
   "execution_count": null,
   "metadata": {
    "id": "e_Q8IByAcBs6"
   },
   "outputs": [],
   "source": [
    "x_train.shape, y_train.shape"
   ]
  },
  {
   "cell_type": "code",
   "execution_count": null,
   "metadata": {
    "id": "11xRsh44b_X5"
   },
   "outputs": [],
   "source": [
    "class_names = ['T-shirt/top', 'Trouser', 'Pullover', 'Dress', 'Coat',\n",
    "               'Sandal', 'Shirt', 'Sneaker', 'Bag', 'Ankle boot']"
   ]
  },
  {
   "cell_type": "markdown",
   "metadata": {
    "id": "fjFX5Xkfe-XU"
   },
   "source": [
    "## 2 데이터 살펴보기"
   ]
  },
  {
   "cell_type": "code",
   "execution_count": null,
   "metadata": {
    "id": "XJ24tyaqcJ4a"
   },
   "outputs": [],
   "source": [
    "# 아래 숫자를 바꿔가며 화면에 그림.\n",
    "n = 1\n",
    "\n",
    "plt.figure()\n",
    "plt.imshow(x_train[n], cmap=plt.cm.binary)\n",
    "plt.colorbar()\n",
    "plt.show()"
   ]
  },
  {
   "cell_type": "code",
   "execution_count": null,
   "metadata": {
    "id": "hVPJiqKIdzF9"
   },
   "outputs": [],
   "source": [
    "plt.figure(figsize=(10,10))\n",
    "for i in range(25):\n",
    "    plt.subplot(5,5,i+1)\n",
    "    plt.xticks([])\n",
    "    plt.yticks([])\n",
    "    plt.imshow(x_train[i], cmap=plt.cm.binary)\n",
    "    plt.xlabel(class_names[y_train[i]])\n",
    "plt.tight_layout()\n",
    "plt.show()"
   ]
  },
  {
   "cell_type": "markdown",
   "metadata": {
    "id": "0sAU3j_cfCZs"
   },
   "source": [
    "## 3.데이터 준비"
   ]
  },
  {
   "cell_type": "markdown",
   "metadata": {
    "id": "ExOpNInygaNK"
   },
   "source": [
    "* CNN은 3차원 구조의 이미지(데이터셋은 4차원)를 입력해야 함.(input_shape)"
   ]
  },
  {
   "cell_type": "code",
   "execution_count": null,
   "metadata": {
    "id": "Qi23mVurgamx"
   },
   "outputs": [],
   "source": [
    "x_train.shape, x_val.shape"
   ]
  },
  {
   "cell_type": "markdown",
   "metadata": {
    "id": "-VMCYQpyg-54"
   },
   "source": [
    "* reshape를 이용하여 다음과 같이 변환\n",
    "    * x_train.shape : (60000, 28, 28, 1)\n",
    "    * x_val.shape : (10000, 28, 28, 1)"
   ]
  },
  {
   "cell_type": "code",
   "execution_count": null,
   "metadata": {
    "id": "An0OZpRCgnG9"
   },
   "outputs": [],
   "source": [
    "x_train = x_train.reshape(60000,28,28,1)\n",
    "x_val = x_val.reshape(10000,28,28,1)"
   ]
  },
  {
   "cell_type": "markdown",
   "metadata": {
    "id": "n-usD8VAeq16"
   },
   "source": [
    "* Scaling : Min-Max\n",
    "    * 0-255 값으로 되어 있는 데이터를 0-1사이 값으로 변환\n",
    "    * x_train, x_test를 그냥 255로 나누면 됨"
   ]
  },
  {
   "cell_type": "code",
   "execution_count": null,
   "metadata": {
    "id": "8WLAP6L0ft-j"
   },
   "outputs": [],
   "source": [
    "x_train = x_train / 255.\n",
    "x_test = x_val / 255."
   ]
  },
  {
   "cell_type": "markdown",
   "metadata": {
    "id": "n-6ejz9fw0PN"
   },
   "source": [
    "## 4.CNN 모델링"
   ]
  },
  {
   "cell_type": "markdown",
   "metadata": {
    "id": "hNUO5Zbd0yd9"
   },
   "source": [
    "* 아래 그림의 구조대로 모델을 설계하고 학습.\n",
    "* learning_rate = 0.0001"
   ]
  },
  {
   "cell_type": "markdown",
   "metadata": {
    "id": "hNiVwvSn1Fqd"
   },
   "source": [
    "![](https://github.com/DA4BAM/image/blob/main/cnn_mnist3.png?raw=true)"
   ]
  },
  {
   "cell_type": "code",
   "execution_count": null,
   "metadata": {
    "id": "HjW0sSd70yd9"
   },
   "outputs": [],
   "source": [
    "clear_session()\n",
    "\n",
    "model = Sequential([ C (  , k = , i = ( ,  , ), p = , s = , a = ),\n",
    "                     M (p = , s = ),\n",
    "                     C (  , k = , p = , s = , a = ),\n",
    "                     M (p = , s = ),\n",
    "                     F ,\n",
    "                     D (, a = ),\n",
    "                     D (, a = )  ])\n",
    "\n",
    "model.summary()"
   ]
  },
  {
   "cell_type": "code",
   "execution_count": null,
   "metadata": {
    "id": "h8dS2MohkYtx"
   },
   "outputs": [],
   "source": [
    "model.compile(optimizer=Adam(learning_rate=0.0001), loss='sparse_categorical_crossentropy')\n",
    "\n",
    "history = model.fit(x_train, y_train, epochs = 10,\n",
    "                    validation_split=0.2).history"
   ]
  },
  {
   "cell_type": "markdown",
   "metadata": {
    "id": "lTV3lm8dkYtx"
   },
   "source": [
    "* 학습결과 그래프"
   ]
  },
  {
   "cell_type": "code",
   "execution_count": null,
   "metadata": {
    "id": "VY_4uOpqkYtx"
   },
   "outputs": [],
   "source": [
    "dl_history_plot(history)"
   ]
  },
  {
   "cell_type": "markdown",
   "metadata": {
    "id": "Ft8mamE4kYtx"
   },
   "source": [
    "* 예측 및 평가"
   ]
  },
  {
   "cell_type": "code",
   "execution_count": null,
   "metadata": {
    "id": "-p8E9gX-kYty"
   },
   "outputs": [],
   "source": [
    "pred = model.predict(x_val)"
   ]
  },
  {
   "cell_type": "code",
   "execution_count": null,
   "metadata": {
    "id": "Qzwdy4XukYty"
   },
   "outputs": [],
   "source": [
    "pred_1 = pred.argmax(axis=1)"
   ]
  },
  {
   "cell_type": "code",
   "execution_count": null,
   "metadata": {
    "id": "JZInw8pmkYty"
   },
   "outputs": [],
   "source": [
    "print(accuracy_score(y_val,pred_1))\n",
    "print('-'*60)\n",
    "print(confusion_matrix(y_val, pred_1))\n",
    "print('-'*60)\n",
    "print(classification_report(y_val, pred_1))"
   ]
  },
  {
   "cell_type": "markdown",
   "metadata": {
    "id": "oxBVLHpsqB6a"
   },
   "source": [
    "## 5.틀린그림 찾아보기\n",
    "위 모델의 결과에서 틀린 그림을 살펴봄"
   ]
  },
  {
   "cell_type": "code",
   "execution_count": null,
   "metadata": {
    "id": "HqX8aZRbH73K"
   },
   "outputs": [],
   "source": [
    "idx = (y_val != pred_1)\n",
    "x_val_wr = x_val[idx]\n",
    "y_val_wr = y_val[idx]\n",
    "pred_wr = pred_1[idx]\n",
    "\n",
    "x_val_wr = x_val_wr.reshape(-1,28,28)\n",
    "print(x_val_wr.shape)"
   ]
  },
  {
   "cell_type": "code",
   "execution_count": null,
   "metadata": {
    "id": "9F9TAVkVsMsB"
   },
   "outputs": [],
   "source": [
    "idx = rd.sample(range(x_val_wr.shape[0]),25)\n",
    "x_temp = x_val_wr[idx]\n",
    "y_temp = y_val_wr[idx]\n",
    "p_temp = pred_wr[idx]\n",
    "\n",
    "plt.figure(figsize=(10,10))\n",
    "for i in range(25):\n",
    "    plt.subplot(5,5,i+1)\n",
    "    plt.xticks([])\n",
    "    plt.yticks([])\n",
    "    plt.imshow(x_temp[i], cmap=plt.cm.binary)\n",
    "    plt.xlabel(f'actual : {class_names[y_temp[i]]}, \\n predict : {class_names[p_temp[i]]}')\n",
    "plt.tight_layout()\n",
    "plt.show()"
   ]
  },
  {
   "cell_type": "markdown",
   "metadata": {
    "id": "WEVqG02ozsaC"
   },
   "source": [
    "## 6.손으로 그린 그림으로 예측"
   ]
  },
  {
   "cell_type": "code",
   "execution_count": null,
   "metadata": {
    "id": "U8xIg9990yd_"
   },
   "outputs": [],
   "source": [
    "import cv2\n",
    "from google.colab.patches import cv2_imshow"
   ]
  },
  {
   "cell_type": "markdown",
   "metadata": {
    "id": "GGMporajIeIc"
   },
   "source": [
    "* 그림판에서 손으로 그린 그림을 업로드"
   ]
  },
  {
   "cell_type": "code",
   "execution_count": null,
   "metadata": {
    "id": "youK_dRjukYv"
   },
   "outputs": [],
   "source": [
    "# 파일 열기\n",
    "img = cv2.imread('f_t.png', cv2.IMREAD_GRAYSCALE)\n",
    "cv2_imshow(img)\n",
    "print(img.shape)"
   ]
  },
  {
   "cell_type": "code",
   "execution_count": null,
   "metadata": {
    "id": "pP3-P4eSu3a4"
   },
   "outputs": [],
   "source": [
    "# 크기 조절하기\n",
    "img = cv2.resize(255-img, (28, 28))\n",
    "print(img.shape)\n",
    "cv2_imshow(img)"
   ]
  },
  {
   "cell_type": "code",
   "execution_count": null,
   "metadata": {
    "id": "pRRZGbntv73S"
   },
   "outputs": [],
   "source": [
    "test_num = img.reshape(1,28,28,1)\n",
    "pred = model.predict(test_num)\n",
    "pred_1 = pred.argmax(axis=1)\n",
    "print(class_names[pred_1[0]])"
   ]
  },
  {
   "cell_type": "code",
   "execution_count": null,
   "metadata": {
    "id": "wMuM5TVNwuLy"
   },
   "outputs": [],
   "source": []
  }
 ],
 "metadata": {
  "accelerator": "GPU",
  "colab": {
   "provenance": [],
   "toc_visible": true
  },
  "gpuClass": "standard",
  "kernelspec": {
   "display_name": "Python 3",
   "name": "python3"
  }
 },
 "nbformat": 4,
 "nbformat_minor": 0
}
