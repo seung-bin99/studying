{
 "cells": [
  {
   "cell_type": "markdown",
   "metadata": {
    "id": "cVB9pY-v8uv5"
   },
   "source": [
    "# 회귀_연습2_carseat"
   ]
  },
  {
   "cell_type": "markdown",
   "metadata": {
    "id": "BSFMLw3YI-gh"
   },
   "source": [
    "## 1.환경준비"
   ]
  },
  {
   "cell_type": "markdown",
   "metadata": {
    "id": "98K82DAxvX6I"
   },
   "source": [
    "### (1) 라이브러리 로딩"
   ]
  },
  {
   "cell_type": "code",
   "execution_count": 1,
   "metadata": {
    "executionInfo": {
     "elapsed": 6028,
     "status": "ok",
     "timestamp": 1713350383794,
     "user": {
      "displayName": "허승빈",
      "userId": "05743957422728933959"
     },
     "user_tz": -540
    },
    "id": "g8Y5OJ-II-gu"
   },
   "outputs": [],
   "source": [
    "import pandas as pd\n",
    "import numpy as np\n",
    "import matplotlib.pyplot as plt\n",
    "import seaborn as sns\n",
    "\n",
    "from sklearn.model_selection import train_test_split\n",
    "from sklearn.metrics import *\n",
    "from sklearn.preprocessing import MinMaxScaler\n",
    "\n",
    "from keras.models import Sequential\n",
    "from keras.layers import Dense\n",
    "from keras.backend import clear_session\n",
    "from keras.optimizers import Adam"
   ]
  },
  {
   "cell_type": "markdown",
   "metadata": {
    "id": "wdhjxFBs1jck"
   },
   "source": [
    "* 학습곡선 그래프 함수 만들기"
   ]
  },
  {
   "cell_type": "code",
   "execution_count": 2,
   "metadata": {
    "executionInfo": {
     "elapsed": 500,
     "status": "ok",
     "timestamp": 1713350444383,
     "user": {
      "displayName": "허승빈",
      "userId": "05743957422728933959"
     },
     "user_tz": -540
    },
    "id": "td3NsznP1lka"
   },
   "outputs": [],
   "source": [
    "def dl_history_plot(history):\n",
    "    plt.figure(figsize=(10,6))\n",
    "    plt.plot(history['loss'], label='train_err', marker = '.')\n",
    "    plt.plot(history['val_loss'], label='val_err', marker = '.')\n",
    "\n",
    "    plt.ylabel('Loss')\n",
    "    plt.xlabel('Epoch')\n",
    "    plt.legend()\n",
    "    plt.grid()\n",
    "    plt.show()"
   ]
  },
  {
   "cell_type": "markdown",
   "metadata": {
    "id": "6wuqykgvviCc"
   },
   "source": [
    "### (2) 데이터로딩"
   ]
  },
  {
   "cell_type": "code",
   "execution_count": 3,
   "metadata": {
    "colab": {
     "base_uri": "https://localhost:8080/",
     "height": 206
    },
    "executionInfo": {
     "elapsed": 577,
     "status": "ok",
     "timestamp": 1713350445425,
     "user": {
      "displayName": "허승빈",
      "userId": "05743957422728933959"
     },
     "user_tz": -540
    },
    "id": "wbN2b33xcYvv",
    "outputId": "e7303627-7361-474b-ecfc-27e3a4a3d697"
   },
   "outputs": [
    {
     "data": {
      "application/vnd.google.colaboratory.intrinsic+json": {
       "summary": "{\n  \"name\": \"data\",\n  \"rows\": 400,\n  \"fields\": [\n    {\n      \"column\": \"Sales\",\n      \"properties\": {\n        \"dtype\": \"number\",\n        \"std\": 2.824115048806837,\n        \"min\": 0.0,\n        \"max\": 16.27,\n        \"num_unique_values\": 336,\n        \"samples\": [\n          8.55,\n          7.57,\n          5.99\n        ],\n        \"semantic_type\": \"\",\n        \"description\": \"\"\n      }\n    },\n    {\n      \"column\": \"CompPrice\",\n      \"properties\": {\n        \"dtype\": \"number\",\n        \"std\": 15,\n        \"min\": 77,\n        \"max\": 175,\n        \"num_unique_values\": 73,\n        \"samples\": [\n          141,\n          120,\n          134\n        ],\n        \"semantic_type\": \"\",\n        \"description\": \"\"\n      }\n    },\n    {\n      \"column\": \"Income\",\n      \"properties\": {\n        \"dtype\": \"number\",\n        \"std\": 27,\n        \"min\": 21,\n        \"max\": 120,\n        \"num_unique_values\": 98,\n        \"samples\": [\n          30,\n          103,\n          55\n        ],\n        \"semantic_type\": \"\",\n        \"description\": \"\"\n      }\n    },\n    {\n      \"column\": \"Advertising\",\n      \"properties\": {\n        \"dtype\": \"number\",\n        \"std\": 6,\n        \"min\": 0,\n        \"max\": 29,\n        \"num_unique_values\": 28,\n        \"samples\": [\n          2,\n          29,\n          9\n        ],\n        \"semantic_type\": \"\",\n        \"description\": \"\"\n      }\n    },\n    {\n      \"column\": \"Population\",\n      \"properties\": {\n        \"dtype\": \"number\",\n        \"std\": 147,\n        \"min\": 10,\n        \"max\": 509,\n        \"num_unique_values\": 275,\n        \"samples\": [\n          447,\n          492,\n          467\n        ],\n        \"semantic_type\": \"\",\n        \"description\": \"\"\n      }\n    },\n    {\n      \"column\": \"Price\",\n      \"properties\": {\n        \"dtype\": \"number\",\n        \"std\": 23,\n        \"min\": 24,\n        \"max\": 191,\n        \"num_unique_values\": 101,\n        \"samples\": [\n          64,\n          139,\n          49\n        ],\n        \"semantic_type\": \"\",\n        \"description\": \"\"\n      }\n    },\n    {\n      \"column\": \"ShelveLoc\",\n      \"properties\": {\n        \"dtype\": \"category\",\n        \"num_unique_values\": 3,\n        \"samples\": [\n          \"Bad\",\n          \"Good\",\n          \"Medium\"\n        ],\n        \"semantic_type\": \"\",\n        \"description\": \"\"\n      }\n    },\n    {\n      \"column\": \"Age\",\n      \"properties\": {\n        \"dtype\": \"number\",\n        \"std\": 16,\n        \"min\": 25,\n        \"max\": 80,\n        \"num_unique_values\": 56,\n        \"samples\": [\n          42,\n          78,\n          29\n        ],\n        \"semantic_type\": \"\",\n        \"description\": \"\"\n      }\n    },\n    {\n      \"column\": \"Education\",\n      \"properties\": {\n        \"dtype\": \"number\",\n        \"std\": 2,\n        \"min\": 10,\n        \"max\": 18,\n        \"num_unique_values\": 9,\n        \"samples\": [\n          18,\n          10,\n          16\n        ],\n        \"semantic_type\": \"\",\n        \"description\": \"\"\n      }\n    },\n    {\n      \"column\": \"Urban\",\n      \"properties\": {\n        \"dtype\": \"category\",\n        \"num_unique_values\": 2,\n        \"samples\": [\n          \"No\",\n          \"Yes\"\n        ],\n        \"semantic_type\": \"\",\n        \"description\": \"\"\n      }\n    },\n    {\n      \"column\": \"US\",\n      \"properties\": {\n        \"dtype\": \"category\",\n        \"num_unique_values\": 2,\n        \"samples\": [\n          \"No\",\n          \"Yes\"\n        ],\n        \"semantic_type\": \"\",\n        \"description\": \"\"\n      }\n    }\n  ]\n}",
       "type": "dataframe",
       "variable_name": "data"
      },
      "text/html": [
       "\n",
       "  <div id=\"df-ef231c63-369a-415b-a592-e13f265a499c\" class=\"colab-df-container\">\n",
       "    <div>\n",
       "<style scoped>\n",
       "    .dataframe tbody tr th:only-of-type {\n",
       "        vertical-align: middle;\n",
       "    }\n",
       "\n",
       "    .dataframe tbody tr th {\n",
       "        vertical-align: top;\n",
       "    }\n",
       "\n",
       "    .dataframe thead th {\n",
       "        text-align: right;\n",
       "    }\n",
       "</style>\n",
       "<table border=\"1\" class=\"dataframe\">\n",
       "  <thead>\n",
       "    <tr style=\"text-align: right;\">\n",
       "      <th></th>\n",
       "      <th>Sales</th>\n",
       "      <th>CompPrice</th>\n",
       "      <th>Income</th>\n",
       "      <th>Advertising</th>\n",
       "      <th>Population</th>\n",
       "      <th>Price</th>\n",
       "      <th>ShelveLoc</th>\n",
       "      <th>Age</th>\n",
       "      <th>Education</th>\n",
       "      <th>Urban</th>\n",
       "      <th>US</th>\n",
       "    </tr>\n",
       "  </thead>\n",
       "  <tbody>\n",
       "    <tr>\n",
       "      <th>0</th>\n",
       "      <td>9.50</td>\n",
       "      <td>138</td>\n",
       "      <td>73</td>\n",
       "      <td>11</td>\n",
       "      <td>276</td>\n",
       "      <td>120</td>\n",
       "      <td>Bad</td>\n",
       "      <td>42</td>\n",
       "      <td>17</td>\n",
       "      <td>Yes</td>\n",
       "      <td>Yes</td>\n",
       "    </tr>\n",
       "    <tr>\n",
       "      <th>1</th>\n",
       "      <td>11.22</td>\n",
       "      <td>111</td>\n",
       "      <td>48</td>\n",
       "      <td>16</td>\n",
       "      <td>260</td>\n",
       "      <td>83</td>\n",
       "      <td>Good</td>\n",
       "      <td>65</td>\n",
       "      <td>10</td>\n",
       "      <td>Yes</td>\n",
       "      <td>Yes</td>\n",
       "    </tr>\n",
       "    <tr>\n",
       "      <th>2</th>\n",
       "      <td>10.06</td>\n",
       "      <td>113</td>\n",
       "      <td>35</td>\n",
       "      <td>10</td>\n",
       "      <td>269</td>\n",
       "      <td>80</td>\n",
       "      <td>Medium</td>\n",
       "      <td>59</td>\n",
       "      <td>12</td>\n",
       "      <td>Yes</td>\n",
       "      <td>Yes</td>\n",
       "    </tr>\n",
       "    <tr>\n",
       "      <th>3</th>\n",
       "      <td>7.40</td>\n",
       "      <td>117</td>\n",
       "      <td>100</td>\n",
       "      <td>4</td>\n",
       "      <td>466</td>\n",
       "      <td>97</td>\n",
       "      <td>Medium</td>\n",
       "      <td>55</td>\n",
       "      <td>14</td>\n",
       "      <td>Yes</td>\n",
       "      <td>Yes</td>\n",
       "    </tr>\n",
       "    <tr>\n",
       "      <th>4</th>\n",
       "      <td>4.15</td>\n",
       "      <td>141</td>\n",
       "      <td>64</td>\n",
       "      <td>3</td>\n",
       "      <td>340</td>\n",
       "      <td>128</td>\n",
       "      <td>Bad</td>\n",
       "      <td>38</td>\n",
       "      <td>13</td>\n",
       "      <td>Yes</td>\n",
       "      <td>No</td>\n",
       "    </tr>\n",
       "  </tbody>\n",
       "</table>\n",
       "</div>\n",
       "    <div class=\"colab-df-buttons\">\n",
       "\n",
       "  <div class=\"colab-df-container\">\n",
       "    <button class=\"colab-df-convert\" onclick=\"convertToInteractive('df-ef231c63-369a-415b-a592-e13f265a499c')\"\n",
       "            title=\"Convert this dataframe to an interactive table.\"\n",
       "            style=\"display:none;\">\n",
       "\n",
       "  <svg xmlns=\"http://www.w3.org/2000/svg\" height=\"24px\" viewBox=\"0 -960 960 960\">\n",
       "    <path d=\"M120-120v-720h720v720H120Zm60-500h600v-160H180v160Zm220 220h160v-160H400v160Zm0 220h160v-160H400v160ZM180-400h160v-160H180v160Zm440 0h160v-160H620v160ZM180-180h160v-160H180v160Zm440 0h160v-160H620v160Z\"/>\n",
       "  </svg>\n",
       "    </button>\n",
       "\n",
       "  <style>\n",
       "    .colab-df-container {\n",
       "      display:flex;\n",
       "      gap: 12px;\n",
       "    }\n",
       "\n",
       "    .colab-df-convert {\n",
       "      background-color: #E8F0FE;\n",
       "      border: none;\n",
       "      border-radius: 50%;\n",
       "      cursor: pointer;\n",
       "      display: none;\n",
       "      fill: #1967D2;\n",
       "      height: 32px;\n",
       "      padding: 0 0 0 0;\n",
       "      width: 32px;\n",
       "    }\n",
       "\n",
       "    .colab-df-convert:hover {\n",
       "      background-color: #E2EBFA;\n",
       "      box-shadow: 0px 1px 2px rgba(60, 64, 67, 0.3), 0px 1px 3px 1px rgba(60, 64, 67, 0.15);\n",
       "      fill: #174EA6;\n",
       "    }\n",
       "\n",
       "    .colab-df-buttons div {\n",
       "      margin-bottom: 4px;\n",
       "    }\n",
       "\n",
       "    [theme=dark] .colab-df-convert {\n",
       "      background-color: #3B4455;\n",
       "      fill: #D2E3FC;\n",
       "    }\n",
       "\n",
       "    [theme=dark] .colab-df-convert:hover {\n",
       "      background-color: #434B5C;\n",
       "      box-shadow: 0px 1px 3px 1px rgba(0, 0, 0, 0.15);\n",
       "      filter: drop-shadow(0px 1px 2px rgba(0, 0, 0, 0.3));\n",
       "      fill: #FFFFFF;\n",
       "    }\n",
       "  </style>\n",
       "\n",
       "    <script>\n",
       "      const buttonEl =\n",
       "        document.querySelector('#df-ef231c63-369a-415b-a592-e13f265a499c button.colab-df-convert');\n",
       "      buttonEl.style.display =\n",
       "        google.colab.kernel.accessAllowed ? 'block' : 'none';\n",
       "\n",
       "      async function convertToInteractive(key) {\n",
       "        const element = document.querySelector('#df-ef231c63-369a-415b-a592-e13f265a499c');\n",
       "        const dataTable =\n",
       "          await google.colab.kernel.invokeFunction('convertToInteractive',\n",
       "                                                    [key], {});\n",
       "        if (!dataTable) return;\n",
       "\n",
       "        const docLinkHtml = 'Like what you see? Visit the ' +\n",
       "          '<a target=\"_blank\" href=https://colab.research.google.com/notebooks/data_table.ipynb>data table notebook</a>'\n",
       "          + ' to learn more about interactive tables.';\n",
       "        element.innerHTML = '';\n",
       "        dataTable['output_type'] = 'display_data';\n",
       "        await google.colab.output.renderOutput(dataTable, element);\n",
       "        const docLink = document.createElement('div');\n",
       "        docLink.innerHTML = docLinkHtml;\n",
       "        element.appendChild(docLink);\n",
       "      }\n",
       "    </script>\n",
       "  </div>\n",
       "\n",
       "\n",
       "<div id=\"df-3d351588-1c42-439d-a4a4-e9a927f15633\">\n",
       "  <button class=\"colab-df-quickchart\" onclick=\"quickchart('df-3d351588-1c42-439d-a4a4-e9a927f15633')\"\n",
       "            title=\"Suggest charts\"\n",
       "            style=\"display:none;\">\n",
       "\n",
       "<svg xmlns=\"http://www.w3.org/2000/svg\" height=\"24px\"viewBox=\"0 0 24 24\"\n",
       "     width=\"24px\">\n",
       "    <g>\n",
       "        <path d=\"M19 3H5c-1.1 0-2 .9-2 2v14c0 1.1.9 2 2 2h14c1.1 0 2-.9 2-2V5c0-1.1-.9-2-2-2zM9 17H7v-7h2v7zm4 0h-2V7h2v10zm4 0h-2v-4h2v4z\"/>\n",
       "    </g>\n",
       "</svg>\n",
       "  </button>\n",
       "\n",
       "<style>\n",
       "  .colab-df-quickchart {\n",
       "      --bg-color: #E8F0FE;\n",
       "      --fill-color: #1967D2;\n",
       "      --hover-bg-color: #E2EBFA;\n",
       "      --hover-fill-color: #174EA6;\n",
       "      --disabled-fill-color: #AAA;\n",
       "      --disabled-bg-color: #DDD;\n",
       "  }\n",
       "\n",
       "  [theme=dark] .colab-df-quickchart {\n",
       "      --bg-color: #3B4455;\n",
       "      --fill-color: #D2E3FC;\n",
       "      --hover-bg-color: #434B5C;\n",
       "      --hover-fill-color: #FFFFFF;\n",
       "      --disabled-bg-color: #3B4455;\n",
       "      --disabled-fill-color: #666;\n",
       "  }\n",
       "\n",
       "  .colab-df-quickchart {\n",
       "    background-color: var(--bg-color);\n",
       "    border: none;\n",
       "    border-radius: 50%;\n",
       "    cursor: pointer;\n",
       "    display: none;\n",
       "    fill: var(--fill-color);\n",
       "    height: 32px;\n",
       "    padding: 0;\n",
       "    width: 32px;\n",
       "  }\n",
       "\n",
       "  .colab-df-quickchart:hover {\n",
       "    background-color: var(--hover-bg-color);\n",
       "    box-shadow: 0 1px 2px rgba(60, 64, 67, 0.3), 0 1px 3px 1px rgba(60, 64, 67, 0.15);\n",
       "    fill: var(--button-hover-fill-color);\n",
       "  }\n",
       "\n",
       "  .colab-df-quickchart-complete:disabled,\n",
       "  .colab-df-quickchart-complete:disabled:hover {\n",
       "    background-color: var(--disabled-bg-color);\n",
       "    fill: var(--disabled-fill-color);\n",
       "    box-shadow: none;\n",
       "  }\n",
       "\n",
       "  .colab-df-spinner {\n",
       "    border: 2px solid var(--fill-color);\n",
       "    border-color: transparent;\n",
       "    border-bottom-color: var(--fill-color);\n",
       "    animation:\n",
       "      spin 1s steps(1) infinite;\n",
       "  }\n",
       "\n",
       "  @keyframes spin {\n",
       "    0% {\n",
       "      border-color: transparent;\n",
       "      border-bottom-color: var(--fill-color);\n",
       "      border-left-color: var(--fill-color);\n",
       "    }\n",
       "    20% {\n",
       "      border-color: transparent;\n",
       "      border-left-color: var(--fill-color);\n",
       "      border-top-color: var(--fill-color);\n",
       "    }\n",
       "    30% {\n",
       "      border-color: transparent;\n",
       "      border-left-color: var(--fill-color);\n",
       "      border-top-color: var(--fill-color);\n",
       "      border-right-color: var(--fill-color);\n",
       "    }\n",
       "    40% {\n",
       "      border-color: transparent;\n",
       "      border-right-color: var(--fill-color);\n",
       "      border-top-color: var(--fill-color);\n",
       "    }\n",
       "    60% {\n",
       "      border-color: transparent;\n",
       "      border-right-color: var(--fill-color);\n",
       "    }\n",
       "    80% {\n",
       "      border-color: transparent;\n",
       "      border-right-color: var(--fill-color);\n",
       "      border-bottom-color: var(--fill-color);\n",
       "    }\n",
       "    90% {\n",
       "      border-color: transparent;\n",
       "      border-bottom-color: var(--fill-color);\n",
       "    }\n",
       "  }\n",
       "</style>\n",
       "\n",
       "  <script>\n",
       "    async function quickchart(key) {\n",
       "      const quickchartButtonEl =\n",
       "        document.querySelector('#' + key + ' button');\n",
       "      quickchartButtonEl.disabled = true;  // To prevent multiple clicks.\n",
       "      quickchartButtonEl.classList.add('colab-df-spinner');\n",
       "      try {\n",
       "        const charts = await google.colab.kernel.invokeFunction(\n",
       "            'suggestCharts', [key], {});\n",
       "      } catch (error) {\n",
       "        console.error('Error during call to suggestCharts:', error);\n",
       "      }\n",
       "      quickchartButtonEl.classList.remove('colab-df-spinner');\n",
       "      quickchartButtonEl.classList.add('colab-df-quickchart-complete');\n",
       "    }\n",
       "    (() => {\n",
       "      let quickchartButtonEl =\n",
       "        document.querySelector('#df-3d351588-1c42-439d-a4a4-e9a927f15633 button');\n",
       "      quickchartButtonEl.style.display =\n",
       "        google.colab.kernel.accessAllowed ? 'block' : 'none';\n",
       "    })();\n",
       "  </script>\n",
       "</div>\n",
       "\n",
       "    </div>\n",
       "  </div>\n"
      ],
      "text/plain": [
       "   Sales  CompPrice  Income  Advertising  Population  Price ShelveLoc  Age  \\\n",
       "0   9.50        138      73           11         276    120       Bad   42   \n",
       "1  11.22        111      48           16         260     83      Good   65   \n",
       "2  10.06        113      35           10         269     80    Medium   59   \n",
       "3   7.40        117     100            4         466     97    Medium   55   \n",
       "4   4.15        141      64            3         340    128       Bad   38   \n",
       "\n",
       "   Education Urban   US  \n",
       "0         17   Yes  Yes  \n",
       "1         10   Yes  Yes  \n",
       "2         12   Yes  Yes  \n",
       "3         14   Yes  Yes  \n",
       "4         13   Yes   No  "
      ]
     },
     "execution_count": 3,
     "metadata": {},
     "output_type": "execute_result"
    }
   ],
   "source": [
    "path = 'https://raw.githubusercontent.com/DA4BAM/dataset/master/Carseats.csv'\n",
    "data = pd.read_csv(path)\n",
    "data.head()"
   ]
  },
  {
   "cell_type": "markdown",
   "metadata": {
    "id": "zYKHwYHatC4k"
   },
   "source": [
    "|\t변수명\t|\t설명\t|\t구분\t|\n",
    "|\t----\t|\t----\t|\t----\t|\n",
    "|\tSales \t|\t 각 지역 판매량(단위 : 1000개)\t|\tTarget\t|\n",
    "|\tCompPrice \t|\t지역별 경쟁사 판매가격(달러)\t|\tfeature\t|\n",
    "|\tIncome \t|\t가구당 평균 소득액(1000달러)\t|\tfeature\t|\n",
    "|\tAdvertising \t|\t 각 지역, 회사의 광고 예산(1000달러)\t|\tfeature\t|\n",
    "|\tPopulation \t|\t 지역 인구수(단위 : 1000명)\t|\tfeature\t|\n",
    "|\tPrice \t|\t 자사 지역별 판매가격(달러)\t|\tfeature\t|\n",
    "|\tShelveLoc \t|\t 진열상태(범주 : Bad, Medium, Good)\t|\tfeature\t|\n",
    "|\tAge \t|\t 지역 인구의 평균 연령\t|\tfeature\t|\n",
    "|\tEducation \t|\t 교육수준(범주 : 10~18)\t|\tfeature\t|\n",
    "|\tUrban \t|\t 매장이 도심에 있는지 여부(범주 : Yes, No)\t|\tfeature\t|\n",
    "|\tUS \t|\t 매장이 미국에 있는지 여부(범주 : Yes, No)\t|\tfeature\t|\n"
   ]
  },
  {
   "cell_type": "markdown",
   "metadata": {
    "id": "oICMvjzJJKbn"
   },
   "source": [
    "## 2.데이터 준비"
   ]
  },
  {
   "cell_type": "markdown",
   "metadata": {
    "id": "y9Q6jR6OZjUk"
   },
   "source": [
    "### (1) 데이터 준비"
   ]
  },
  {
   "cell_type": "code",
   "execution_count": 4,
   "metadata": {
    "executionInfo": {
     "elapsed": 3,
     "status": "ok",
     "timestamp": 1713350449058,
     "user": {
      "displayName": "허승빈",
      "userId": "05743957422728933959"
     },
     "user_tz": -540
    },
    "id": "FA-PnUpcLqXN"
   },
   "outputs": [],
   "source": [
    "target = 'Sales'\n",
    "x = data.drop(target, axis=1)\n",
    "y = data.loc[:, target]"
   ]
  },
  {
   "cell_type": "markdown",
   "metadata": {
    "id": "nOF9fSLQugGf"
   },
   "source": [
    "### (2) 가변수화"
   ]
  },
  {
   "cell_type": "code",
   "execution_count": 5,
   "metadata": {
    "colab": {
     "base_uri": "https://localhost:8080/"
    },
    "executionInfo": {
     "elapsed": 3,
     "status": "ok",
     "timestamp": 1713350471926,
     "user": {
      "displayName": "허승빈",
      "userId": "05743957422728933959"
     },
     "user_tz": -540
    },
    "id": "WvFpDFVDpVm4",
    "outputId": "2d61cf23-a85f-4484-e421-c394dd25087d"
   },
   "outputs": [
    {
     "name": "stdout",
     "output_type": "stream",
     "text": [
      "<class 'pandas.core.frame.DataFrame'>\n",
      "RangeIndex: 400 entries, 0 to 399\n",
      "Data columns (total 10 columns):\n",
      " #   Column       Non-Null Count  Dtype \n",
      "---  ------       --------------  ----- \n",
      " 0   CompPrice    400 non-null    int64 \n",
      " 1   Income       400 non-null    int64 \n",
      " 2   Advertising  400 non-null    int64 \n",
      " 3   Population   400 non-null    int64 \n",
      " 4   Price        400 non-null    int64 \n",
      " 5   ShelveLoc    400 non-null    object\n",
      " 6   Age          400 non-null    int64 \n",
      " 7   Education    400 non-null    int64 \n",
      " 8   Urban        400 non-null    object\n",
      " 9   US           400 non-null    object\n",
      "dtypes: int64(7), object(3)\n",
      "memory usage: 31.4+ KB\n"
     ]
    }
   ],
   "source": [
    "x.info()"
   ]
  },
  {
   "cell_type": "code",
   "execution_count": 6,
   "metadata": {
    "executionInfo": {
     "elapsed": 5,
     "status": "ok",
     "timestamp": 1713350559844,
     "user": {
      "displayName": "허승빈",
      "userId": "05743957422728933959"
     },
     "user_tz": -540
    },
    "id": "JXG5cAFRyqjU"
   },
   "outputs": [],
   "source": [
    "cat_cols = ['ShelveLoc', 'Education', 'US', 'Urban']\n",
    "x = pd.get_dummies(x, columns = cat_cols, drop_first = True)"
   ]
  },
  {
   "cell_type": "markdown",
   "metadata": {
    "id": "KsGGC-a4vpar"
   },
   "source": [
    "### (3) 데이터분할"
   ]
  },
  {
   "cell_type": "code",
   "execution_count": 8,
   "metadata": {
    "executionInfo": {
     "elapsed": 596,
     "status": "ok",
     "timestamp": 1713350574396,
     "user": {
      "displayName": "허승빈",
      "userId": "05743957422728933959"
     },
     "user_tz": -540
    },
    "id": "7ilUcIlvvrqR"
   },
   "outputs": [],
   "source": [
    "x_train, x_val, y_train, y_val = train_test_split(x, y, test_size=.2, random_state = 20)"
   ]
  },
  {
   "cell_type": "markdown",
   "metadata": {
    "id": "MXUC5Yi3um81"
   },
   "source": [
    "### (4) Scaling"
   ]
  },
  {
   "cell_type": "code",
   "execution_count": 9,
   "metadata": {
    "executionInfo": {
     "elapsed": 553,
     "status": "ok",
     "timestamp": 1713350579893,
     "user": {
      "displayName": "허승빈",
      "userId": "05743957422728933959"
     },
     "user_tz": -540
    },
    "id": "9bly3GLif1eP"
   },
   "outputs": [],
   "source": [
    "scaler = MinMaxScaler()\n",
    "x_train = scaler.fit_transform(x_train)\n",
    "x_val = scaler.transform(x_val)"
   ]
  },
  {
   "cell_type": "markdown",
   "metadata": {
    "id": "or87og8ocYvw"
   },
   "source": [
    "## 3.모델링\n",
    "\n",
    "* 히든레이어를 추가한 모델 두 개 이상을 생성한 후\n",
    "* 성능을 비교.\n",
    "* 성능을 높이기 위해서 조절할 것들\n",
    "    * 히든레이어 수\n",
    "    * 히든레이어 노드수\n",
    "    * epochs 수\n",
    "    * learning_rate : 0.1 ~ 0.0001 사이에서 조정(예 Adam(learning_rate = 0.01))\n"
   ]
  },
  {
   "cell_type": "markdown",
   "metadata": {
    "id": "0C3BHe_d1suj"
   },
   "source": [
    "### (1) 모델1"
   ]
  },
  {
   "cell_type": "markdown",
   "metadata": {
    "id": "MZQ1GyB7vONX"
   },
   "source": [
    "* 모델 설계\n",
    "    * 일단 먼저 손으로 구조를 그려본 후\n",
    "    * 코드로 옮김."
   ]
  },
  {
   "cell_type": "code",
   "execution_count": 10,
   "metadata": {
    "colab": {
     "base_uri": "https://localhost:8080/"
    },
    "executionInfo": {
     "elapsed": 578,
     "status": "ok",
     "timestamp": 1713350669079,
     "user": {
      "displayName": "허승빈",
      "userId": "05743957422728933959"
     },
     "user_tz": -540
    },
    "id": "fRAnQdBEDrCM",
    "outputId": "75c84735-09cc-40b3-d199-0ab54c02fca6"
   },
   "outputs": [
    {
     "data": {
      "text/plain": [
       "18"
      ]
     },
     "execution_count": 10,
     "metadata": {},
     "output_type": "execute_result"
    }
   ],
   "source": [
    "nfeatures = x_train.shape[1]\n",
    "nfeatures"
   ]
  },
  {
   "cell_type": "code",
   "execution_count": 17,
   "metadata": {
    "colab": {
     "base_uri": "https://localhost:8080/"
    },
    "executionInfo": {
     "elapsed": 793,
     "status": "ok",
     "timestamp": 1713350996363,
     "user": {
      "displayName": "허승빈",
      "userId": "05743957422728933959"
     },
     "user_tz": -540
    },
    "id": "siwyHvr1rmAM",
    "outputId": "cd88a75a-497a-4c54-e8ad-e4a073fe0013"
   },
   "outputs": [
    {
     "name": "stdout",
     "output_type": "stream",
     "text": [
      "Model: \"sequential\"\n",
      "_________________________________________________________________\n",
      " Layer (type)                Output Shape              Param #   \n",
      "=================================================================\n",
      " dense (Dense)               (None, 18)                342       \n",
      "                                                                 \n",
      " dense_1 (Dense)             (None, 4)                 76        \n",
      "                                                                 \n",
      " dense_2 (Dense)             (None, 1)                 5         \n",
      "                                                                 \n",
      "=================================================================\n",
      "Total params: 423 (1.65 KB)\n",
      "Trainable params: 423 (1.65 KB)\n",
      "Non-trainable params: 0 (0.00 Byte)\n",
      "_________________________________________________________________\n"
     ]
    }
   ],
   "source": [
    "clear_session()\n",
    "\n",
    "model = Sequential([Dense(18 ,input_shape = (nfeatures,)  , activation = 'relu' ),\n",
    "                    Dense(4, activation='relu') ,\n",
    "                    Dense(1) ] )\n",
    "\n",
    "model.summary()"
   ]
  },
  {
   "cell_type": "markdown",
   "metadata": {
    "id": "Sg5XlbcW0w2y"
   },
   "source": [
    "* 컴파일 + 학습"
   ]
  },
  {
   "cell_type": "code",
   "execution_count": 18,
   "metadata": {
    "colab": {
     "base_uri": "https://localhost:8080/"
    },
    "executionInfo": {
     "elapsed": 5975,
     "status": "ok",
     "timestamp": 1713351002784,
     "user": {
      "displayName": "허승빈",
      "userId": "05743957422728933959"
     },
     "user_tz": -540
    },
    "id": "iEZWr_jNwCpr",
    "outputId": "1a4b1ea2-a57a-41a6-9241-2da1cdf85359"
   },
   "outputs": [
    {
     "name": "stdout",
     "output_type": "stream",
     "text": [
      "Epoch 1/50\n",
      "8/8 [==============================] - 2s 29ms/step - loss: 64.9353 - val_loss: 59.4867\n",
      "Epoch 2/50\n",
      "8/8 [==============================] - 0s 11ms/step - loss: 59.9605 - val_loss: 49.7320\n",
      "Epoch 3/50\n",
      "8/8 [==============================] - 0s 8ms/step - loss: 44.9939 - val_loss: 31.6881\n",
      "Epoch 4/50\n",
      "8/8 [==============================] - 0s 9ms/step - loss: 23.7855 - val_loss: 11.6185\n",
      "Epoch 5/50\n",
      "8/8 [==============================] - 0s 9ms/step - loss: 7.7503 - val_loss: 11.7596\n",
      "Epoch 6/50\n",
      "8/8 [==============================] - 0s 11ms/step - loss: 8.6453 - val_loss: 10.2308\n",
      "Epoch 7/50\n",
      "8/8 [==============================] - 0s 12ms/step - loss: 6.3838 - val_loss: 8.0940\n",
      "Epoch 8/50\n",
      "8/8 [==============================] - 0s 7ms/step - loss: 6.2540 - val_loss: 7.8766\n",
      "Epoch 9/50\n",
      "8/8 [==============================] - 0s 7ms/step - loss: 5.8042 - val_loss: 8.1892\n",
      "Epoch 10/50\n",
      "8/8 [==============================] - 0s 6ms/step - loss: 5.5564 - val_loss: 8.2620\n",
      "Epoch 11/50\n",
      "8/8 [==============================] - 0s 6ms/step - loss: 5.2935 - val_loss: 7.6071\n",
      "Epoch 12/50\n",
      "8/8 [==============================] - 0s 6ms/step - loss: 5.2074 - val_loss: 7.2890\n",
      "Epoch 13/50\n",
      "8/8 [==============================] - 0s 6ms/step - loss: 4.9945 - val_loss: 7.6246\n",
      "Epoch 14/50\n",
      "8/8 [==============================] - 0s 6ms/step - loss: 4.8637 - val_loss: 7.1712\n",
      "Epoch 15/50\n",
      "8/8 [==============================] - 0s 6ms/step - loss: 4.7196 - val_loss: 7.1440\n",
      "Epoch 16/50\n",
      "8/8 [==============================] - 0s 6ms/step - loss: 4.5724 - val_loss: 6.8863\n",
      "Epoch 17/50\n",
      "8/8 [==============================] - 0s 7ms/step - loss: 4.4704 - val_loss: 6.8062\n",
      "Epoch 18/50\n",
      "8/8 [==============================] - 0s 6ms/step - loss: 4.3454 - val_loss: 6.5415\n",
      "Epoch 19/50\n",
      "8/8 [==============================] - 0s 6ms/step - loss: 4.2438 - val_loss: 6.4808\n",
      "Epoch 20/50\n",
      "8/8 [==============================] - 0s 6ms/step - loss: 4.1518 - val_loss: 6.3090\n",
      "Epoch 21/50\n",
      "8/8 [==============================] - 0s 6ms/step - loss: 4.0650 - val_loss: 6.0342\n",
      "Epoch 22/50\n",
      "8/8 [==============================] - 0s 6ms/step - loss: 3.9565 - val_loss: 5.9598\n",
      "Epoch 23/50\n",
      "8/8 [==============================] - 0s 6ms/step - loss: 3.8613 - val_loss: 5.8381\n",
      "Epoch 24/50\n",
      "8/8 [==============================] - 0s 8ms/step - loss: 3.7476 - val_loss: 5.7772\n",
      "Epoch 25/50\n",
      "8/8 [==============================] - 0s 6ms/step - loss: 3.6598 - val_loss: 5.4525\n",
      "Epoch 26/50\n",
      "8/8 [==============================] - 0s 7ms/step - loss: 3.5681 - val_loss: 5.4541\n",
      "Epoch 27/50\n",
      "8/8 [==============================] - 0s 6ms/step - loss: 3.4581 - val_loss: 5.2578\n",
      "Epoch 28/50\n",
      "8/8 [==============================] - 0s 7ms/step - loss: 3.3893 - val_loss: 5.1330\n",
      "Epoch 29/50\n",
      "8/8 [==============================] - 0s 6ms/step - loss: 3.2942 - val_loss: 5.2236\n",
      "Epoch 30/50\n",
      "8/8 [==============================] - 0s 9ms/step - loss: 3.2332 - val_loss: 4.7588\n",
      "Epoch 31/50\n",
      "8/8 [==============================] - 0s 8ms/step - loss: 3.2149 - val_loss: 4.9762\n",
      "Epoch 32/50\n",
      "8/8 [==============================] - 0s 9ms/step - loss: 3.0436 - val_loss: 4.4832\n",
      "Epoch 33/50\n",
      "8/8 [==============================] - 0s 7ms/step - loss: 2.9775 - val_loss: 4.7028\n",
      "Epoch 34/50\n",
      "8/8 [==============================] - 0s 7ms/step - loss: 2.8623 - val_loss: 4.2782\n",
      "Epoch 35/50\n",
      "8/8 [==============================] - 0s 6ms/step - loss: 2.7805 - val_loss: 4.4481\n",
      "Epoch 36/50\n",
      "8/8 [==============================] - 0s 6ms/step - loss: 2.6839 - val_loss: 4.1055\n",
      "Epoch 37/50\n",
      "8/8 [==============================] - 0s 6ms/step - loss: 2.5887 - val_loss: 3.8841\n",
      "Epoch 38/50\n",
      "8/8 [==============================] - 0s 6ms/step - loss: 2.4817 - val_loss: 3.9238\n",
      "Epoch 39/50\n",
      "8/8 [==============================] - 0s 6ms/step - loss: 2.3766 - val_loss: 3.6427\n",
      "Epoch 40/50\n",
      "8/8 [==============================] - 0s 6ms/step - loss: 2.2797 - val_loss: 3.4781\n",
      "Epoch 41/50\n",
      "8/8 [==============================] - 0s 6ms/step - loss: 2.2202 - val_loss: 3.2851\n",
      "Epoch 42/50\n",
      "8/8 [==============================] - 0s 9ms/step - loss: 2.0929 - val_loss: 3.2455\n",
      "Epoch 43/50\n",
      "8/8 [==============================] - 0s 8ms/step - loss: 1.9673 - val_loss: 3.0936\n",
      "Epoch 44/50\n",
      "8/8 [==============================] - 0s 6ms/step - loss: 1.8891 - val_loss: 2.9659\n",
      "Epoch 45/50\n",
      "8/8 [==============================] - 0s 6ms/step - loss: 1.7792 - val_loss: 2.7952\n",
      "Epoch 46/50\n",
      "8/8 [==============================] - 0s 8ms/step - loss: 1.6790 - val_loss: 2.7675\n",
      "Epoch 47/50\n",
      "8/8 [==============================] - 0s 6ms/step - loss: 1.6124 - val_loss: 2.5213\n",
      "Epoch 48/50\n",
      "8/8 [==============================] - 0s 8ms/step - loss: 1.5488 - val_loss: 2.5886\n",
      "Epoch 49/50\n",
      "8/8 [==============================] - 0s 6ms/step - loss: 1.4485 - val_loss: 2.2846\n",
      "Epoch 50/50\n",
      "8/8 [==============================] - 0s 6ms/step - loss: 1.3609 - val_loss: 2.4606\n"
     ]
    }
   ],
   "source": [
    "model.compile(optimizer=Adam(learning_rate = 0.01), loss = 'mse')\n",
    "\n",
    "hist = model.fit(x_train, y_train, epochs = 50, validation_split= 0.2).history"
   ]
  },
  {
   "cell_type": "markdown",
   "metadata": {
    "id": "6iLA8c2p00M6"
   },
   "source": [
    "* 학습곡선"
   ]
  },
  {
   "cell_type": "code",
   "execution_count": 19,
   "metadata": {
    "colab": {
     "base_uri": "https://localhost:8080/",
     "height": 542
    },
    "executionInfo": {
     "elapsed": 8,
     "status": "ok",
     "timestamp": 1713351002785,
     "user": {
      "displayName": "허승빈",
      "userId": "05743957422728933959"
     },
     "user_tz": -540
    },
    "id": "T9plSoBwwCh8",
    "outputId": "c743f270-bf0e-47f5-9f59-e33b6813f986"
   },
   "outputs": [
    {
     "data": {
      "image/png": "[encoded data removed]",
      "text/plain": [
       "<Figure size 1000x600 with 1 Axes>"
      ]
     },
     "metadata": {},
     "output_type": "display_data"
    }
   ],
   "source": [
    "dl_history_plot(hist)"
   ]
  },
  {
   "cell_type": "markdown",
   "metadata": {
    "id": "hVa3Z88902gU"
   },
   "source": [
    "* 검증"
   ]
  },
  {
   "cell_type": "code",
   "execution_count": 20,
   "metadata": {
    "colab": {
     "base_uri": "https://localhost:8080/"
    },
    "executionInfo": {
     "elapsed": 6,
     "status": "ok",
     "timestamp": 1713351002785,
     "user": {
      "displayName": "허승빈",
      "userId": "05743957422728933959"
     },
     "user_tz": -540
    },
    "id": "PTzZV-_DwCY3",
    "outputId": "aa8a9de3-27c4-4190-c47d-f7077a367687"
   },
   "outputs": [
    {
     "name": "stdout",
     "output_type": "stream",
     "text": [
      "3/3 [==============================] - 0s 3ms/step\n",
      "1.5649932383379597\n",
      "1.2467518892288205\n"
     ]
    }
   ],
   "source": [
    "pred = model.predict(x_val)\n",
    "\n",
    "print(mean_squared_error(y_val, pred, squared = False))\n",
    "print(mean_absolute_error(y_val, pred))\n",
    "# print(mean_absolute_percentage_error(y_val, pred))"
   ]
  },
  {
   "cell_type": "markdown",
   "metadata": {
    "id": "F-gjdyri4M6H"
   },
   "source": [
    "## 4.추가 실험1\n",
    "\n",
    "* Hidden Layer 1개\n",
    "    * 노드 : 2, 5, 10, 20, 30, 40, 50, 60, 70, 80, 90, 100, 110, 120, 130, 140, 150\n",
    "* 모델링 코드를 함수로 생성\n",
    "    * 입력 : 노드 수\n",
    "    * 출력(return) : validation 성능(MAE)\n",
    "* for loop로 반복 실행\n",
    "\n",
    "\n"
   ]
  },
  {
   "cell_type": "markdown",
   "metadata": {
    "id": "yT2jzDOg4M6I"
   },
   "source": [
    "### (1) 모델링 함수 생성"
   ]
  },
  {
   "cell_type": "code",
   "execution_count": 21,
   "metadata": {
    "executionInfo": {
     "elapsed": 511,
     "status": "ok",
     "timestamp": 1713351095483,
     "user": {
      "displayName": "허승빈",
      "userId": "05743957422728933959"
     },
     "user_tz": -540
    },
    "id": "xPjFUjJP4uqe"
   },
   "outputs": [],
   "source": [
    "def modeling_test1(node) :\n",
    "\n",
    "    # 노드 수를 입력 받아 모델 선언\n",
    "    clear_session()\n",
    "    model = Sequential([Dense(node ,input_shape = (nfeatures,)  , activation = 'relu' ),\n",
    "                        Dense(1) ] )\n",
    "\n",
    "    model.compile(optimizer=Adam(learning_rate = 0.01), loss = 'mse')\n",
    "    model.fit(x_train, y_train, epochs = 50, verbose = False)\n",
    "\n",
    "    pred = model.predict(x_val)\n",
    "    mae = mean_absolute_error(y_val, pred)\n",
    "\n",
    "    # mae 결과 return\n",
    "    return mae"
   ]
  },
  {
   "cell_type": "markdown",
   "metadata": {
    "id": "H0egbeGK5UKU"
   },
   "source": [
    "### (2) 반복실행"
   ]
  },
  {
   "cell_type": "code",
   "execution_count": 22,
   "metadata": {
    "colab": {
     "base_uri": "https://localhost:8080/"
    },
    "executionInfo": {
     "elapsed": 45107,
     "status": "ok",
     "timestamp": 1713351169400,
     "user": {
      "displayName": "허승빈",
      "userId": "05743957422728933959"
     },
     "user_tz": -540
    },
    "id": "sdpUtk8R5UKV",
    "outputId": "ada52e19-e9fc-47e2-ff3b-9bbfc1ac9fbf"
   },
   "outputs": [
    {
     "name": "stdout",
     "output_type": "stream",
     "text": [
      "3/3 [==============================] - 0s 3ms/step\n"
     ]
    },
    {
     "name": "stderr",
     "output_type": "stream",
     "text": [
      "WARNING:tensorflow:5 out of the last 13 calls to <function Model.make_predict_function.<locals>.predict_function at 0x7b6d400d0790> triggered tf.function retracing. Tracing is expensive and the excessive number of tracings could be due to (1) creating @tf.function repeatedly in a loop, (2) passing tensors with different shapes, (3) passing Python objects instead of tensors. For (1), please define your @tf.function outside of the loop. For (2), @tf.function has reduce_retracing=True option that can avoid unnecessary retracing. For (3), please refer to https://www.tensorflow.org/guide/function#controlling_retracing and https://www.tensorflow.org/api_docs/python/tf/function for  more details.\n"
     ]
    },
    {
     "name": "stdout",
     "output_type": "stream",
     "text": [
      "3/3 [==============================] - 0s 4ms/step\n"
     ]
    },
    {
     "name": "stderr",
     "output_type": "stream",
     "text": [
      "WARNING:tensorflow:5 out of the last 13 calls to <function Model.make_predict_function.<locals>.predict_function at 0x7b6d5a1ade10> triggered tf.function retracing. Tracing is expensive and the excessive number of tracings could be due to (1) creating @tf.function repeatedly in a loop, (2) passing tensors with different shapes, (3) passing Python objects instead of tensors. For (1), please define your @tf.function outside of the loop. For (2), @tf.function has reduce_retracing=True option that can avoid unnecessary retracing. For (3), please refer to https://www.tensorflow.org/guide/function#controlling_retracing and https://www.tensorflow.org/api_docs/python/tf/function for  more details.\n"
     ]
    },
    {
     "name": "stdout",
     "output_type": "stream",
     "text": [
      "3/3 [==============================] - 0s 4ms/step\n",
      "3/3 [==============================] - 0s 3ms/step\n",
      "3/3 [==============================] - 0s 4ms/step\n",
      "3/3 [==============================] - 0s 3ms/step\n",
      "3/3 [==============================] - 0s 3ms/step\n",
      "3/3 [==============================] - 0s 5ms/step\n",
      "3/3 [==============================] - 0s 4ms/step\n",
      "3/3 [==============================] - 0s 4ms/step\n",
      "3/3 [==============================] - 0s 3ms/step\n",
      "3/3 [==============================] - 0s 5ms/step\n",
      "3/3 [==============================] - 0s 4ms/step\n",
      "3/3 [==============================] - 0s 3ms/step\n",
      "3/3 [==============================] - 0s 20ms/step\n",
      "3/3 [==============================] - 0s 3ms/step\n",
      "3/3 [==============================] - 0s 4ms/step\n"
     ]
    }
   ],
   "source": [
    "nodes = [2, 5, 10, 20, 30, 40, 50, 60, 70, 80, 90, 100, 110, 120, 130, 140, 150]\n",
    "result = []\n",
    "for n in nodes :\n",
    "    result.append(modeling_test1(n))"
   ]
  },
  {
   "cell_type": "code",
   "execution_count": null,
   "metadata": {
    "colab": {
     "base_uri": "https://localhost:8080/",
     "height": 430
    },
    "executionInfo": {
     "elapsed": 393,
     "status": "ok",
     "timestamp": 1709261383592,
     "user": {
      "displayName": "한기영",
      "userId": "13049187003176135487"
     },
     "user_tz": -540
    },
    "id": "L5rTuldA5-13",
    "outputId": "ecce22b1-2f9b-49be-d7cb-0980d082216e"
   },
   "outputs": [
    {
     "data": {
      "image/png": "[encoded data removed]",
      "text/plain": [
       "<Figure size 640x480 with 1 Axes>"
      ]
     },
     "metadata": {},
     "output_type": "display_data"
    }
   ],
   "source": [
    "plt.plot(nodes, result)\n",
    "plt.grid()\n",
    "plt.show()"
   ]
  },
  {
   "cell_type": "markdown",
   "metadata": {
    "id": "QZNYTNbN7Dks"
   },
   "source": [
    "## 5.추가 실험2\n",
    "\n",
    "* Hidden Layer 수 : 1,2,3,4,5,6,7,8,9,10\n",
    "    * 각 레이어의 노드 수 : 10개\n",
    "* 함수 생성\n",
    "    * 입력 : 레이어 수\n",
    "    * 출력(return) : validation 성능(MAE)\n",
    "* for loop로 반복 실행\n",
    "\n",
    "\n"
   ]
  },
  {
   "cell_type": "markdown",
   "metadata": {
    "id": "kGIiuzrv7Dkt"
   },
   "source": [
    "### (1) 모델링 함수 생성"
   ]
  },
  {
   "cell_type": "code",
   "execution_count": 24,
   "metadata": {
    "executionInfo": {
     "elapsed": 457,
     "status": "ok",
     "timestamp": 1713351455964,
     "user": {
      "displayName": "허승빈",
      "userId": "05743957422728933959"
     },
     "user_tz": -540
    },
    "id": "s1WkZDnP7Dkt"
   },
   "outputs": [],
   "source": [
    "def modeling_test2(layer) :\n",
    "\n",
    "    # 레이어 리스트 만들기\n",
    "    # 레이어 수 만큼 리스트에 레이어 추가\n",
    "\n",
    "    clear_session()\n",
    "\n",
    "    # 첫번째 레이어는 input_shape가 필요.\n",
    "    layer_list = [Dense(10 ,input_shape = (nfeatures,)  , activation = 'relu' )]\n",
    "\n",
    "    # 주어진 레이어 수에 맞게 레이어 추가\n",
    "    for i in range(2, layer) :  # 첫번째 레이어, 아웃풋 레이어는 명시적으로 추가하므로 2부터 시작\n",
    "        layer_list.append(Dense(10 , activation = 'relu' ))\n",
    "\n",
    "    # Output Layer 추가하고 모델 선언\n",
    "    layer_list.append(Dense(1))\n",
    "    model = Sequential(layer_list)\n",
    "\n",
    "    # 레이어 잘 추가된 건지 확인하기 위해 summary 출력\n",
    "    print(model.summary())\n",
    "\n",
    "    model.compile(optimizer=Adam(learning_rate = 0.01), loss = 'mse')\n",
    "    model.fit(x_train, y_train, epochs = 50, verbose = False)\n",
    "\n",
    "    pred = model.predict(x_val)\n",
    "    mae = mean_absolute_error(y_val, pred)\n",
    "\n",
    "    return mae\n"
   ]
  },
  {
   "cell_type": "markdown",
   "metadata": {
    "id": "4lTS_ghY7Dku"
   },
   "source": [
    "### (2) 반복실행"
   ]
  },
  {
   "cell_type": "code",
   "execution_count": null,
   "metadata": {
    "colab": {
     "base_uri": "https://localhost:8080/"
    },
    "executionInfo": {
     "elapsed": 35611,
     "status": "ok",
     "timestamp": 1709262390053,
     "user": {
      "displayName": "한기영",
      "userId": "13049187003176135487"
     },
     "user_tz": -540
    },
    "id": "emEJLgu_7Dku",
    "outputId": "4b333bed-0050-47a5-cb2b-aaf2c48d3c60"
   },
   "outputs": [
    {
     "name": "stdout",
     "output_type": "stream",
     "text": [
      "Model: \"sequential\"\n",
      "_________________________________________________________________\n",
      " Layer (type)                Output Shape              Param #   \n",
      "=================================================================\n",
      " dense (Dense)               (None, 10)                190       \n",
      "                                                                 \n",
      " dense_1 (Dense)             (None, 1)                 11        \n",
      "                                                                 \n",
      "=================================================================\n",
      "Total params: 201 (804.00 Byte)\n",
      "Trainable params: 201 (804.00 Byte)\n",
      "Non-trainable params: 0 (0.00 Byte)\n",
      "_________________________________________________________________\n",
      "None\n",
      "3/3 [==============================] - 0s 3ms/step\n",
      "Model: \"sequential\"\n",
      "_________________________________________________________________\n",
      " Layer (type)                Output Shape              Param #   \n",
      "=================================================================\n",
      " dense (Dense)               (None, 10)                190       \n",
      "                                                                 \n",
      " dense_1 (Dense)             (None, 1)                 11        \n",
      "                                                                 \n",
      "=================================================================\n",
      "Total params: 201 (804.00 Byte)\n",
      "Trainable params: 201 (804.00 Byte)\n",
      "Non-trainable params: 0 (0.00 Byte)\n",
      "_________________________________________________________________\n",
      "None\n",
      "3/3 [==============================] - 0s 3ms/step\n",
      "Model: \"sequential\"\n",
      "_________________________________________________________________\n",
      " Layer (type)                Output Shape              Param #   \n",
      "=================================================================\n",
      " dense (Dense)               (None, 10)                190       \n",
      "                                                                 \n",
      " dense_1 (Dense)             (None, 10)                110       \n",
      "                                                                 \n",
      " dense_2 (Dense)             (None, 1)                 11        \n",
      "                                                                 \n",
      "=================================================================\n",
      "Total params: 311 (1.21 KB)\n",
      "Trainable params: 311 (1.21 KB)\n",
      "Non-trainable params: 0 (0.00 Byte)\n",
      "_________________________________________________________________\n",
      "None\n",
      "3/3 [==============================] - 0s 3ms/step\n",
      "Model: \"sequential\"\n",
      "_________________________________________________________________\n",
      " Layer (type)                Output Shape              Param #   \n",
      "=================================================================\n",
      " dense (Dense)               (None, 10)                190       \n",
      "                                                                 \n",
      " dense_1 (Dense)             (None, 10)                110       \n",
      "                                                                 \n",
      " dense_2 (Dense)             (None, 10)                110       \n",
      "                                                                 \n",
      " dense_3 (Dense)             (None, 1)                 11        \n",
      "                                                                 \n",
      "=================================================================\n",
      "Total params: 421 (1.64 KB)\n",
      "Trainable params: 421 (1.64 KB)\n",
      "Non-trainable params: 0 (0.00 Byte)\n",
      "_________________________________________________________________\n",
      "None\n",
      "3/3 [==============================] - 0s 3ms/step\n",
      "Model: \"sequential\"\n",
      "_________________________________________________________________\n",
      " Layer (type)                Output Shape              Param #   \n",
      "=================================================================\n",
      " dense (Dense)               (None, 10)                190       \n",
      "                                                                 \n",
      " dense_1 (Dense)             (None, 10)                110       \n",
      "                                                                 \n",
      " dense_2 (Dense)             (None, 10)                110       \n",
      "                                                                 \n",
      " dense_3 (Dense)             (None, 10)                110       \n",
      "                                                                 \n",
      " dense_4 (Dense)             (None, 1)                 11        \n",
      "                                                                 \n",
      "=================================================================\n",
      "Total params: 531 (2.07 KB)\n",
      "Trainable params: 531 (2.07 KB)\n",
      "Non-trainable params: 0 (0.00 Byte)\n",
      "_________________________________________________________________\n",
      "None\n",
      "3/3 [==============================] - 0s 5ms/step\n",
      "Model: \"sequential\"\n",
      "_________________________________________________________________\n",
      " Layer (type)                Output Shape              Param #   \n",
      "=================================================================\n",
      " dense (Dense)               (None, 10)                190       \n",
      "                                                                 \n",
      " dense_1 (Dense)             (None, 10)                110       \n",
      "                                                                 \n",
      " dense_2 (Dense)             (None, 10)                110       \n",
      "                                                                 \n",
      " dense_3 (Dense)             (None, 10)                110       \n",
      "                                                                 \n",
      " dense_4 (Dense)             (None, 10)                110       \n",
      "                                                                 \n",
      " dense_5 (Dense)             (None, 1)                 11        \n",
      "                                                                 \n",
      "=================================================================\n",
      "Total params: 641 (2.50 KB)\n",
      "Trainable params: 641 (2.50 KB)\n",
      "Non-trainable params: 0 (0.00 Byte)\n",
      "_________________________________________________________________\n",
      "None\n",
      "3/3 [==============================] - 0s 3ms/step\n",
      "Model: \"sequential\"\n",
      "_________________________________________________________________\n",
      " Layer (type)                Output Shape              Param #   \n",
      "=================================================================\n",
      " dense (Dense)               (None, 10)                190       \n",
      "                                                                 \n",
      " dense_1 (Dense)             (None, 10)                110       \n",
      "                                                                 \n",
      " dense_2 (Dense)             (None, 10)                110       \n",
      "                                                                 \n",
      " dense_3 (Dense)             (None, 10)                110       \n",
      "                                                                 \n",
      " dense_4 (Dense)             (None, 10)                110       \n",
      "                                                                 \n",
      " dense_5 (Dense)             (None, 10)                110       \n",
      "                                                                 \n",
      " dense_6 (Dense)             (None, 1)                 11        \n",
      "                                                                 \n",
      "=================================================================\n",
      "Total params: 751 (2.93 KB)\n",
      "Trainable params: 751 (2.93 KB)\n",
      "Non-trainable params: 0 (0.00 Byte)\n",
      "_________________________________________________________________\n",
      "None\n",
      "3/3 [==============================] - 0s 3ms/step\n",
      "Model: \"sequential\"\n",
      "_________________________________________________________________\n",
      " Layer (type)                Output Shape              Param #   \n",
      "=================================================================\n",
      " dense (Dense)               (None, 10)                190       \n",
      "                                                                 \n",
      " dense_1 (Dense)             (None, 10)                110       \n",
      "                                                                 \n",
      " dense_2 (Dense)             (None, 10)                110       \n",
      "                                                                 \n",
      " dense_3 (Dense)             (None, 10)                110       \n",
      "                                                                 \n",
      " dense_4 (Dense)             (None, 10)                110       \n",
      "                                                                 \n",
      " dense_5 (Dense)             (None, 10)                110       \n",
      "                                                                 \n",
      " dense_6 (Dense)             (None, 10)                110       \n",
      "                                                                 \n",
      " dense_7 (Dense)             (None, 1)                 11        \n",
      "                                                                 \n",
      "=================================================================\n",
      "Total params: 861 (3.36 KB)\n",
      "Trainable params: 861 (3.36 KB)\n",
      "Non-trainable params: 0 (0.00 Byte)\n",
      "_________________________________________________________________\n",
      "None\n",
      "3/3 [==============================] - 0s 3ms/step\n",
      "Model: \"sequential\"\n",
      "_________________________________________________________________\n",
      " Layer (type)                Output Shape              Param #   \n",
      "=================================================================\n",
      " dense (Dense)               (None, 10)                190       \n",
      "                                                                 \n",
      " dense_1 (Dense)             (None, 10)                110       \n",
      "                                                                 \n",
      " dense_2 (Dense)             (None, 10)                110       \n",
      "                                                                 \n",
      " dense_3 (Dense)             (None, 10)                110       \n",
      "                                                                 \n",
      " dense_4 (Dense)             (None, 10)                110       \n",
      "                                                                 \n",
      " dense_5 (Dense)             (None, 10)                110       \n",
      "                                                                 \n",
      " dense_6 (Dense)             (None, 10)                110       \n",
      "                                                                 \n",
      " dense_7 (Dense)             (None, 10)                110       \n",
      "                                                                 \n",
      " dense_8 (Dense)             (None, 1)                 11        \n",
      "                                                                 \n",
      "=================================================================\n",
      "Total params: 971 (3.79 KB)\n",
      "Trainable params: 971 (3.79 KB)\n",
      "Non-trainable params: 0 (0.00 Byte)\n",
      "_________________________________________________________________\n",
      "None\n",
      "3/3 [==============================] - 0s 4ms/step\n",
      "Model: \"sequential\"\n",
      "_________________________________________________________________\n",
      " Layer (type)                Output Shape              Param #   \n",
      "=================================================================\n",
      " dense (Dense)               (None, 10)                190       \n",
      "                                                                 \n",
      " dense_1 (Dense)             (None, 10)                110       \n",
      "                                                                 \n",
      " dense_2 (Dense)             (None, 10)                110       \n",
      "                                                                 \n",
      " dense_3 (Dense)             (None, 10)                110       \n",
      "                                                                 \n",
      " dense_4 (Dense)             (None, 10)                110       \n",
      "                                                                 \n",
      " dense_5 (Dense)             (None, 10)                110       \n",
      "                                                                 \n",
      " dense_6 (Dense)             (None, 10)                110       \n",
      "                                                                 \n",
      " dense_7 (Dense)             (None, 10)                110       \n",
      "                                                                 \n",
      " dense_8 (Dense)             (None, 10)                110       \n",
      "                                                                 \n",
      " dense_9 (Dense)             (None, 1)                 11        \n",
      "                                                                 \n",
      "=================================================================\n",
      "Total params: 1081 (4.22 KB)\n",
      "Trainable params: 1081 (4.22 KB)\n",
      "Non-trainable params: 0 (0.00 Byte)\n",
      "_________________________________________________________________\n",
      "None\n",
      "3/3 [==============================] - 0s 4ms/step\n"
     ]
    }
   ],
   "source": [
    "layers = list(range(1,11))\n",
    "result = []\n",
    "for l in layers :\n",
    "    result.append(modeling_test2(l))"
   ]
  },
  {
   "cell_type": "code",
   "execution_count": null,
   "metadata": {
    "colab": {
     "base_uri": "https://localhost:8080/",
     "height": 430
    },
    "executionInfo": {
     "elapsed": 633,
     "status": "ok",
     "timestamp": 1709262396520,
     "user": {
      "displayName": "한기영",
      "userId": "13049187003176135487"
     },
     "user_tz": -540
    },
    "id": "ivZXjapc8pf-",
    "outputId": "35073f21-a77e-4f19-8a2e-f6102923255e"
   },
   "outputs": [
    {
     "data": {
      "image/png": "[encoded data removed]",
      "text/plain": [
       "<Figure size 640x480 with 1 Axes>"
      ]
     },
     "metadata": {},
     "output_type": "display_data"
    }
   ],
   "source": [
    "plt.plot(layers, result)\n",
    "plt.grid()\n",
    "plt.show()"
   ]
  },
  {
   "cell_type": "code",
   "execution_count": null,
   "metadata": {
    "id": "UJ0_XVw99EXS"
   },
   "outputs": [],
   "source": []
  }
 ],
 "metadata": {
  "accelerator": "GPU",
  "colab": {
   "gpuType": "T4",
   "provenance": []
  },
  "kernelspec": {
   "display_name": "Python 3",
   "name": "python3"
  }
 },
 "nbformat": 4,
 "nbformat_minor": 0
}
