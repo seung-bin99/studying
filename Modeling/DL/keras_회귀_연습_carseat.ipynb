{
 "cells": [
  {
   "cell_type": "markdown",
   "metadata": {
    "id": "cVB9pY-v8uv5"
   },
   "source": [
    "# 회귀_연습_carseat"
   ]
  },
  {
   "cell_type": "markdown",
   "metadata": {
    "id": "BSFMLw3YI-gh"
   },
   "source": [
    "## 1.환경준비"
   ]
  },
  {
   "cell_type": "markdown",
   "metadata": {
    "id": "98K82DAxvX6I"
   },
   "source": [
    "### (1) 라이브러리 로딩"
   ]
  },
  {
   "cell_type": "code",
   "execution_count": 1,
   "metadata": {
    "executionInfo": {
     "elapsed": 7970,
     "status": "ok",
     "timestamp": 1712887341229,
     "user": {
      "displayName": "허승빈",
      "userId": "05743957422728933959"
     },
     "user_tz": -540
    },
    "id": "g8Y5OJ-II-gu"
   },
   "outputs": [],
   "source": [
    "import pandas as pd\n",
    "import numpy as np\n",
    "import matplotlib.pyplot as plt\n",
    "import seaborn as sns\n",
    "\n",
    "from sklearn.model_selection import train_test_split\n",
    "from sklearn.metrics import *\n",
    "from sklearn.preprocessing import MinMaxScaler\n",
    "\n",
    "\n",
    "from keras.models import Sequential\n",
    "from keras.layers import Dense\n",
    "from keras.backend import clear_session\n",
    "from keras.optimizers import Adam"
   ]
  },
  {
   "cell_type": "markdown",
   "metadata": {
    "id": "wdhjxFBs1jck"
   },
   "source": [
    "* 학습곡선 그래프 함수 만들기"
   ]
  },
  {
   "cell_type": "code",
   "execution_count": 2,
   "metadata": {
    "executionInfo": {
     "elapsed": 13,
     "status": "ok",
     "timestamp": 1712887341230,
     "user": {
      "displayName": "허승빈",
      "userId": "05743957422728933959"
     },
     "user_tz": -540
    },
    "id": "td3NsznP1lka"
   },
   "outputs": [],
   "source": [
    "def dl_history_plot(history):\n",
    "    plt.figure(figsize=(10,6))\n",
    "    plt.plot(history['loss'], label='train_err', marker = '.')\n",
    "    plt.plot(history['val_loss'], label='val_err', marker = '.')\n",
    "\n",
    "    plt.ylabel('Loss')\n",
    "    plt.xlabel('Epoch')\n",
    "    plt.legend()\n",
    "    plt.grid()\n",
    "    plt.show()"
   ]
  },
  {
   "cell_type": "markdown",
   "metadata": {
    "id": "6wuqykgvviCc"
   },
   "source": [
    "### (2) 데이터로딩"
   ]
  },
  {
   "cell_type": "code",
   "execution_count": 3,
   "metadata": {
    "colab": {
     "base_uri": "https://localhost:8080/",
     "height": 206
    },
    "executionInfo": {
     "elapsed": 12,
     "status": "ok",
     "timestamp": 1712887341231,
     "user": {
      "displayName": "허승빈",
      "userId": "05743957422728933959"
     },
     "user_tz": -540
    },
    "id": "wbN2b33xcYvv",
    "outputId": "d55647a1-41b2-4a11-dd47-da2c54eda5e9"
   },
   "outputs": [
    {
     "data": {
      "application/vnd.google.colaboratory.intrinsic+json": {
       "summary": "{\n  \"name\": \"data\",\n  \"rows\": 400,\n  \"fields\": [\n    {\n      \"column\": \"Sales\",\n      \"properties\": {\n        \"dtype\": \"number\",\n        \"std\": 2.824115048806837,\n        \"min\": 0.0,\n        \"max\": 16.27,\n        \"num_unique_values\": 336,\n        \"samples\": [\n          8.55,\n          7.57,\n          5.99\n        ],\n        \"semantic_type\": \"\",\n        \"description\": \"\"\n      }\n    },\n    {\n      \"column\": \"CompPrice\",\n      \"properties\": {\n        \"dtype\": \"number\",\n        \"std\": 15,\n        \"min\": 77,\n        \"max\": 175,\n        \"num_unique_values\": 73,\n        \"samples\": [\n          141,\n          120,\n          134\n        ],\n        \"semantic_type\": \"\",\n        \"description\": \"\"\n      }\n    },\n    {\n      \"column\": \"Income\",\n      \"properties\": {\n        \"dtype\": \"number\",\n        \"std\": 27,\n        \"min\": 21,\n        \"max\": 120,\n        \"num_unique_values\": 98,\n        \"samples\": [\n          30,\n          103,\n          55\n        ],\n        \"semantic_type\": \"\",\n        \"description\": \"\"\n      }\n    },\n    {\n      \"column\": \"Advertising\",\n      \"properties\": {\n        \"dtype\": \"number\",\n        \"std\": 6,\n        \"min\": 0,\n        \"max\": 29,\n        \"num_unique_values\": 28,\n        \"samples\": [\n          2,\n          29,\n          9\n        ],\n        \"semantic_type\": \"\",\n        \"description\": \"\"\n      }\n    },\n    {\n      \"column\": \"Population\",\n      \"properties\": {\n        \"dtype\": \"number\",\n        \"std\": 147,\n        \"min\": 10,\n        \"max\": 509,\n        \"num_unique_values\": 275,\n        \"samples\": [\n          447,\n          492,\n          467\n        ],\n        \"semantic_type\": \"\",\n        \"description\": \"\"\n      }\n    },\n    {\n      \"column\": \"Price\",\n      \"properties\": {\n        \"dtype\": \"number\",\n        \"std\": 23,\n        \"min\": 24,\n        \"max\": 191,\n        \"num_unique_values\": 101,\n        \"samples\": [\n          64,\n          139,\n          49\n        ],\n        \"semantic_type\": \"\",\n        \"description\": \"\"\n      }\n    },\n    {\n      \"column\": \"ShelveLoc\",\n      \"properties\": {\n        \"dtype\": \"category\",\n        \"num_unique_values\": 3,\n        \"samples\": [\n          \"Bad\",\n          \"Good\",\n          \"Medium\"\n        ],\n        \"semantic_type\": \"\",\n        \"description\": \"\"\n      }\n    },\n    {\n      \"column\": \"Age\",\n      \"properties\": {\n        \"dtype\": \"number\",\n        \"std\": 16,\n        \"min\": 25,\n        \"max\": 80,\n        \"num_unique_values\": 56,\n        \"samples\": [\n          42,\n          78,\n          29\n        ],\n        \"semantic_type\": \"\",\n        \"description\": \"\"\n      }\n    },\n    {\n      \"column\": \"Education\",\n      \"properties\": {\n        \"dtype\": \"number\",\n        \"std\": 2,\n        \"min\": 10,\n        \"max\": 18,\n        \"num_unique_values\": 9,\n        \"samples\": [\n          18,\n          10,\n          16\n        ],\n        \"semantic_type\": \"\",\n        \"description\": \"\"\n      }\n    },\n    {\n      \"column\": \"Urban\",\n      \"properties\": {\n        \"dtype\": \"category\",\n        \"num_unique_values\": 2,\n        \"samples\": [\n          \"No\",\n          \"Yes\"\n        ],\n        \"semantic_type\": \"\",\n        \"description\": \"\"\n      }\n    },\n    {\n      \"column\": \"US\",\n      \"properties\": {\n        \"dtype\": \"category\",\n        \"num_unique_values\": 2,\n        \"samples\": [\n          \"No\",\n          \"Yes\"\n        ],\n        \"semantic_type\": \"\",\n        \"description\": \"\"\n      }\n    }\n  ]\n}",
       "type": "dataframe",
       "variable_name": "data"
      },
      "text/html": [
       "\n",
       "  <div id=\"df-03b0982b-a0be-4a7c-af17-8b368c1e477b\" class=\"colab-df-container\">\n",
       "    <div>\n",
       "<style scoped>\n",
       "    .dataframe tbody tr th:only-of-type {\n",
       "        vertical-align: middle;\n",
       "    }\n",
       "\n",
       "    .dataframe tbody tr th {\n",
       "        vertical-align: top;\n",
       "    }\n",
       "\n",
       "    .dataframe thead th {\n",
       "        text-align: right;\n",
       "    }\n",
       "</style>\n",
       "<table border=\"1\" class=\"dataframe\">\n",
       "  <thead>\n",
       "    <tr style=\"text-align: right;\">\n",
       "      <th></th>\n",
       "      <th>Sales</th>\n",
       "      <th>CompPrice</th>\n",
       "      <th>Income</th>\n",
       "      <th>Advertising</th>\n",
       "      <th>Population</th>\n",
       "      <th>Price</th>\n",
       "      <th>ShelveLoc</th>\n",
       "      <th>Age</th>\n",
       "      <th>Education</th>\n",
       "      <th>Urban</th>\n",
       "      <th>US</th>\n",
       "    </tr>\n",
       "  </thead>\n",
       "  <tbody>\n",
       "    <tr>\n",
       "      <th>0</th>\n",
       "      <td>9.50</td>\n",
       "      <td>138</td>\n",
       "      <td>73</td>\n",
       "      <td>11</td>\n",
       "      <td>276</td>\n",
       "      <td>120</td>\n",
       "      <td>Bad</td>\n",
       "      <td>42</td>\n",
       "      <td>17</td>\n",
       "      <td>Yes</td>\n",
       "      <td>Yes</td>\n",
       "    </tr>\n",
       "    <tr>\n",
       "      <th>1</th>\n",
       "      <td>11.22</td>\n",
       "      <td>111</td>\n",
       "      <td>48</td>\n",
       "      <td>16</td>\n",
       "      <td>260</td>\n",
       "      <td>83</td>\n",
       "      <td>Good</td>\n",
       "      <td>65</td>\n",
       "      <td>10</td>\n",
       "      <td>Yes</td>\n",
       "      <td>Yes</td>\n",
       "    </tr>\n",
       "    <tr>\n",
       "      <th>2</th>\n",
       "      <td>10.06</td>\n",
       "      <td>113</td>\n",
       "      <td>35</td>\n",
       "      <td>10</td>\n",
       "      <td>269</td>\n",
       "      <td>80</td>\n",
       "      <td>Medium</td>\n",
       "      <td>59</td>\n",
       "      <td>12</td>\n",
       "      <td>Yes</td>\n",
       "      <td>Yes</td>\n",
       "    </tr>\n",
       "    <tr>\n",
       "      <th>3</th>\n",
       "      <td>7.40</td>\n",
       "      <td>117</td>\n",
       "      <td>100</td>\n",
       "      <td>4</td>\n",
       "      <td>466</td>\n",
       "      <td>97</td>\n",
       "      <td>Medium</td>\n",
       "      <td>55</td>\n",
       "      <td>14</td>\n",
       "      <td>Yes</td>\n",
       "      <td>Yes</td>\n",
       "    </tr>\n",
       "    <tr>\n",
       "      <th>4</th>\n",
       "      <td>4.15</td>\n",
       "      <td>141</td>\n",
       "      <td>64</td>\n",
       "      <td>3</td>\n",
       "      <td>340</td>\n",
       "      <td>128</td>\n",
       "      <td>Bad</td>\n",
       "      <td>38</td>\n",
       "      <td>13</td>\n",
       "      <td>Yes</td>\n",
       "      <td>No</td>\n",
       "    </tr>\n",
       "  </tbody>\n",
       "</table>\n",
       "</div>\n",
       "    <div class=\"colab-df-buttons\">\n",
       "\n",
       "  <div class=\"colab-df-container\">\n",
       "    <button class=\"colab-df-convert\" onclick=\"convertToInteractive('df-03b0982b-a0be-4a7c-af17-8b368c1e477b')\"\n",
       "            title=\"Convert this dataframe to an interactive table.\"\n",
       "            style=\"display:none;\">\n",
       "\n",
       "  <svg xmlns=\"http://www.w3.org/2000/svg\" height=\"24px\" viewBox=\"0 -960 960 960\">\n",
       "    <path d=\"M120-120v-720h720v720H120Zm60-500h600v-160H180v160Zm220 220h160v-160H400v160Zm0 220h160v-160H400v160ZM180-400h160v-160H180v160Zm440 0h160v-160H620v160ZM180-180h160v-160H180v160Zm440 0h160v-160H620v160Z\"/>\n",
       "  </svg>\n",
       "    </button>\n",
       "\n",
       "  <style>\n",
       "    .colab-df-container {\n",
       "      display:flex;\n",
       "      gap: 12px;\n",
       "    }\n",
       "\n",
       "    .colab-df-convert {\n",
       "      background-color: #E8F0FE;\n",
       "      border: none;\n",
       "      border-radius: 50%;\n",
       "      cursor: pointer;\n",
       "      display: none;\n",
       "      fill: #1967D2;\n",
       "      height: 32px;\n",
       "      padding: 0 0 0 0;\n",
       "      width: 32px;\n",
       "    }\n",
       "\n",
       "    .colab-df-convert:hover {\n",
       "      background-color: #E2EBFA;\n",
       "      box-shadow: 0px 1px 2px rgba(60, 64, 67, 0.3), 0px 1px 3px 1px rgba(60, 64, 67, 0.15);\n",
       "      fill: #174EA6;\n",
       "    }\n",
       "\n",
       "    .colab-df-buttons div {\n",
       "      margin-bottom: 4px;\n",
       "    }\n",
       "\n",
       "    [theme=dark] .colab-df-convert {\n",
       "      background-color: #3B4455;\n",
       "      fill: #D2E3FC;\n",
       "    }\n",
       "\n",
       "    [theme=dark] .colab-df-convert:hover {\n",
       "      background-color: #434B5C;\n",
       "      box-shadow: 0px 1px 3px 1px rgba(0, 0, 0, 0.15);\n",
       "      filter: drop-shadow(0px 1px 2px rgba(0, 0, 0, 0.3));\n",
       "      fill: #FFFFFF;\n",
       "    }\n",
       "  </style>\n",
       "\n",
       "    <script>\n",
       "      const buttonEl =\n",
       "        document.querySelector('#df-03b0982b-a0be-4a7c-af17-8b368c1e477b button.colab-df-convert');\n",
       "      buttonEl.style.display =\n",
       "        google.colab.kernel.accessAllowed ? 'block' : 'none';\n",
       "\n",
       "      async function convertToInteractive(key) {\n",
       "        const element = document.querySelector('#df-03b0982b-a0be-4a7c-af17-8b368c1e477b');\n",
       "        const dataTable =\n",
       "          await google.colab.kernel.invokeFunction('convertToInteractive',\n",
       "                                                    [key], {});\n",
       "        if (!dataTable) return;\n",
       "\n",
       "        const docLinkHtml = 'Like what you see? Visit the ' +\n",
       "          '<a target=\"_blank\" href=https://colab.research.google.com/notebooks/data_table.ipynb>data table notebook</a>'\n",
       "          + ' to learn more about interactive tables.';\n",
       "        element.innerHTML = '';\n",
       "        dataTable['output_type'] = 'display_data';\n",
       "        await google.colab.output.renderOutput(dataTable, element);\n",
       "        const docLink = document.createElement('div');\n",
       "        docLink.innerHTML = docLinkHtml;\n",
       "        element.appendChild(docLink);\n",
       "      }\n",
       "    </script>\n",
       "  </div>\n",
       "\n",
       "\n",
       "<div id=\"df-47615044-1225-43a4-8f9b-b37d843777d8\">\n",
       "  <button class=\"colab-df-quickchart\" onclick=\"quickchart('df-47615044-1225-43a4-8f9b-b37d843777d8')\"\n",
       "            title=\"Suggest charts\"\n",
       "            style=\"display:none;\">\n",
       "\n",
       "<svg xmlns=\"http://www.w3.org/2000/svg\" height=\"24px\"viewBox=\"0 0 24 24\"\n",
       "     width=\"24px\">\n",
       "    <g>\n",
       "        <path d=\"M19 3H5c-1.1 0-2 .9-2 2v14c0 1.1.9 2 2 2h14c1.1 0 2-.9 2-2V5c0-1.1-.9-2-2-2zM9 17H7v-7h2v7zm4 0h-2V7h2v10zm4 0h-2v-4h2v4z\"/>\n",
       "    </g>\n",
       "</svg>\n",
       "  </button>\n",
       "\n",
       "<style>\n",
       "  .colab-df-quickchart {\n",
       "      --bg-color: #E8F0FE;\n",
       "      --fill-color: #1967D2;\n",
       "      --hover-bg-color: #E2EBFA;\n",
       "      --hover-fill-color: #174EA6;\n",
       "      --disabled-fill-color: #AAA;\n",
       "      --disabled-bg-color: #DDD;\n",
       "  }\n",
       "\n",
       "  [theme=dark] .colab-df-quickchart {\n",
       "      --bg-color: #3B4455;\n",
       "      --fill-color: #D2E3FC;\n",
       "      --hover-bg-color: #434B5C;\n",
       "      --hover-fill-color: #FFFFFF;\n",
       "      --disabled-bg-color: #3B4455;\n",
       "      --disabled-fill-color: #666;\n",
       "  }\n",
       "\n",
       "  .colab-df-quickchart {\n",
       "    background-color: var(--bg-color);\n",
       "    border: none;\n",
       "    border-radius: 50%;\n",
       "    cursor: pointer;\n",
       "    display: none;\n",
       "    fill: var(--fill-color);\n",
       "    height: 32px;\n",
       "    padding: 0;\n",
       "    width: 32px;\n",
       "  }\n",
       "\n",
       "  .colab-df-quickchart:hover {\n",
       "    background-color: var(--hover-bg-color);\n",
       "    box-shadow: 0 1px 2px rgba(60, 64, 67, 0.3), 0 1px 3px 1px rgba(60, 64, 67, 0.15);\n",
       "    fill: var(--button-hover-fill-color);\n",
       "  }\n",
       "\n",
       "  .colab-df-quickchart-complete:disabled,\n",
       "  .colab-df-quickchart-complete:disabled:hover {\n",
       "    background-color: var(--disabled-bg-color);\n",
       "    fill: var(--disabled-fill-color);\n",
       "    box-shadow: none;\n",
       "  }\n",
       "\n",
       "  .colab-df-spinner {\n",
       "    border: 2px solid var(--fill-color);\n",
       "    border-color: transparent;\n",
       "    border-bottom-color: var(--fill-color);\n",
       "    animation:\n",
       "      spin 1s steps(1) infinite;\n",
       "  }\n",
       "\n",
       "  @keyframes spin {\n",
       "    0% {\n",
       "      border-color: transparent;\n",
       "      border-bottom-color: var(--fill-color);\n",
       "      border-left-color: var(--fill-color);\n",
       "    }\n",
       "    20% {\n",
       "      border-color: transparent;\n",
       "      border-left-color: var(--fill-color);\n",
       "      border-top-color: var(--fill-color);\n",
       "    }\n",
       "    30% {\n",
       "      border-color: transparent;\n",
       "      border-left-color: var(--fill-color);\n",
       "      border-top-color: var(--fill-color);\n",
       "      border-right-color: var(--fill-color);\n",
       "    }\n",
       "    40% {\n",
       "      border-color: transparent;\n",
       "      border-right-color: var(--fill-color);\n",
       "      border-top-color: var(--fill-color);\n",
       "    }\n",
       "    60% {\n",
       "      border-color: transparent;\n",
       "      border-right-color: var(--fill-color);\n",
       "    }\n",
       "    80% {\n",
       "      border-color: transparent;\n",
       "      border-right-color: var(--fill-color);\n",
       "      border-bottom-color: var(--fill-color);\n",
       "    }\n",
       "    90% {\n",
       "      border-color: transparent;\n",
       "      border-bottom-color: var(--fill-color);\n",
       "    }\n",
       "  }\n",
       "</style>\n",
       "\n",
       "  <script>\n",
       "    async function quickchart(key) {\n",
       "      const quickchartButtonEl =\n",
       "        document.querySelector('#' + key + ' button');\n",
       "      quickchartButtonEl.disabled = true;  // To prevent multiple clicks.\n",
       "      quickchartButtonEl.classList.add('colab-df-spinner');\n",
       "      try {\n",
       "        const charts = await google.colab.kernel.invokeFunction(\n",
       "            'suggestCharts', [key], {});\n",
       "      } catch (error) {\n",
       "        console.error('Error during call to suggestCharts:', error);\n",
       "      }\n",
       "      quickchartButtonEl.classList.remove('colab-df-spinner');\n",
       "      quickchartButtonEl.classList.add('colab-df-quickchart-complete');\n",
       "    }\n",
       "    (() => {\n",
       "      let quickchartButtonEl =\n",
       "        document.querySelector('#df-47615044-1225-43a4-8f9b-b37d843777d8 button');\n",
       "      quickchartButtonEl.style.display =\n",
       "        google.colab.kernel.accessAllowed ? 'block' : 'none';\n",
       "    })();\n",
       "  </script>\n",
       "</div>\n",
       "\n",
       "    </div>\n",
       "  </div>\n"
      ],
      "text/plain": [
       "   Sales  CompPrice  Income  Advertising  Population  Price ShelveLoc  Age  \\\n",
       "0   9.50        138      73           11         276    120       Bad   42   \n",
       "1  11.22        111      48           16         260     83      Good   65   \n",
       "2  10.06        113      35           10         269     80    Medium   59   \n",
       "3   7.40        117     100            4         466     97    Medium   55   \n",
       "4   4.15        141      64            3         340    128       Bad   38   \n",
       "\n",
       "   Education Urban   US  \n",
       "0         17   Yes  Yes  \n",
       "1         10   Yes  Yes  \n",
       "2         12   Yes  Yes  \n",
       "3         14   Yes  Yes  \n",
       "4         13   Yes   No  "
      ]
     },
     "execution_count": 3,
     "metadata": {},
     "output_type": "execute_result"
    }
   ],
   "source": [
    "path = 'https://raw.githubusercontent.com/DA4BAM/dataset/master/Carseats.csv'\n",
    "data = pd.read_csv(path)\n",
    "data.head()"
   ]
  },
  {
   "cell_type": "markdown",
   "metadata": {
    "id": "zYKHwYHatC4k"
   },
   "source": [
    "|\t변수명\t|\t설명\t|\t구분\t|\n",
    "|\t----\t|\t----\t|\t----\t|\n",
    "|\tSales \t|\t 각 지역 판매량(단위 : 1000개)\t|\tTarget\t|\n",
    "|\tCompPrice \t|\t지역별 경쟁사 판매가격(달러)\t|\tfeature\t|\n",
    "|\tIncome \t|\t가구당 평균 소득액(1000달러)\t|\tfeature\t|\n",
    "|\tAdvertising \t|\t 각 지역, 회사의 광고 예산(1000달러)\t|\tfeature\t|\n",
    "|\tPopulation \t|\t 지역 인구수(단위 : 1000명)\t|\tfeature\t|\n",
    "|\tPrice \t|\t 자사 지역별 판매가격(달러)\t|\tfeature\t|\n",
    "|\tShelveLoc \t|\t 진열상태(범주 : Bad, Medium, Good)\t|\tfeature\t|\n",
    "|\tAge \t|\t 지역 인구의 평균 연령\t|\tfeature\t|\n",
    "|\tEducation \t|\t 교육수준(범주 : 10~18)\t|\tfeature\t|\n",
    "|\tUrban \t|\t 매장이 도심에 있는지 여부(범주 : Yes, No)\t|\tfeature\t|\n",
    "|\tUS \t|\t 매장이 미국에 있는지 여부(범주 : Yes, No)\t|\tfeature\t|\n"
   ]
  },
  {
   "cell_type": "markdown",
   "metadata": {
    "id": "oICMvjzJJKbn"
   },
   "source": [
    "## 2.데이터 준비"
   ]
  },
  {
   "cell_type": "markdown",
   "metadata": {
    "id": "y9Q6jR6OZjUk"
   },
   "source": [
    "### (1) 데이터 준비"
   ]
  },
  {
   "cell_type": "code",
   "execution_count": 4,
   "metadata": {
    "executionInfo": {
     "elapsed": 10,
     "status": "ok",
     "timestamp": 1712887341231,
     "user": {
      "displayName": "허승빈",
      "userId": "05743957422728933959"
     },
     "user_tz": -540
    },
    "id": "FA-PnUpcLqXN"
   },
   "outputs": [],
   "source": [
    "target = 'Sales'\n",
    "x = data.drop(target, axis=1)\n",
    "y = data.loc[:, target]"
   ]
  },
  {
   "cell_type": "markdown",
   "metadata": {
    "id": "nOF9fSLQugGf"
   },
   "source": [
    "### (2) 가변수화"
   ]
  },
  {
   "cell_type": "code",
   "execution_count": 5,
   "metadata": {
    "executionInfo": {
     "elapsed": 10,
     "status": "ok",
     "timestamp": 1712887341232,
     "user": {
      "displayName": "허승빈",
      "userId": "05743957422728933959"
     },
     "user_tz": -540
    },
    "id": "JXG5cAFRyqjU"
   },
   "outputs": [],
   "source": [
    "cat_cols = ['ShelveLoc', 'Education', 'US', 'Urban']\n",
    "x = pd.get_dummies(x, columns = cat_cols, drop_first = True)"
   ]
  },
  {
   "cell_type": "markdown",
   "metadata": {
    "id": "KsGGC-a4vpar"
   },
   "source": [
    "### (3) 데이터분할"
   ]
  },
  {
   "cell_type": "code",
   "execution_count": 6,
   "metadata": {
    "executionInfo": {
     "elapsed": 11,
     "status": "ok",
     "timestamp": 1712887341233,
     "user": {
      "displayName": "허승빈",
      "userId": "05743957422728933959"
     },
     "user_tz": -540
    },
    "id": "7ilUcIlvvrqR"
   },
   "outputs": [],
   "source": [
    "x_train, x_val, y_train, y_val = train_test_split(x, y, test_size=.2, random_state = 20)"
   ]
  },
  {
   "cell_type": "markdown",
   "metadata": {
    "id": "MXUC5Yi3um81"
   },
   "source": [
    "### (4) Scaling"
   ]
  },
  {
   "cell_type": "code",
   "execution_count": 7,
   "metadata": {
    "executionInfo": {
     "elapsed": 10,
     "status": "ok",
     "timestamp": 1712887341233,
     "user": {
      "displayName": "허승빈",
      "userId": "05743957422728933959"
     },
     "user_tz": -540
    },
    "id": "9bly3GLif1eP"
   },
   "outputs": [],
   "source": [
    "scaler = MinMaxScaler()\n",
    "x_train = scaler.fit_transform(x_train)\n",
    "x_val = scaler.transform(x_val)"
   ]
  },
  {
   "cell_type": "markdown",
   "metadata": {
    "id": "or87og8ocYvw"
   },
   "source": [
    "## 3.모델링\n",
    "\n",
    "* 히든레이어를 추가한 모델 두 개 이상을 생성한 후\n",
    "* 성능을 비교.\n",
    "* 성능을 높이기 위해서 조절할 것들\n",
    "    * 히든레이어 수\n",
    "    * 히든레이어 노드수\n",
    "    * epochs 수\n",
    "    * learning_rate : 0.1 ~ 0.0001 사이에서 조정(예 Adam(learning_rate = 0.01))\n"
   ]
  },
  {
   "cell_type": "markdown",
   "metadata": {
    "id": "0C3BHe_d1suj"
   },
   "source": [
    "### (1) 모델1"
   ]
  },
  {
   "cell_type": "markdown",
   "metadata": {
    "id": "MZQ1GyB7vONX"
   },
   "source": [
    "* 모델 설계\n",
    "    * 일단 먼저 손으로 구조를 그려본 후\n",
    "    * 코드로 옮김."
   ]
  },
  {
   "cell_type": "code",
   "execution_count": 8,
   "metadata": {
    "colab": {
     "base_uri": "https://localhost:8080/"
    },
    "executionInfo": {
     "elapsed": 297,
     "status": "ok",
     "timestamp": 1712887506319,
     "user": {
      "displayName": "허승빈",
      "userId": "05743957422728933959"
     },
     "user_tz": -540
    },
    "id": "fRAnQdBEDrCM",
    "outputId": "3d6da681-4b4a-4857-effb-07c3353844a3"
   },
   "outputs": [
    {
     "data": {
      "text/plain": [
       "18"
      ]
     },
     "execution_count": 8,
     "metadata": {},
     "output_type": "execute_result"
    }
   ],
   "source": [
    "nfeatures = x_train.shape[1]\n",
    "nfeatures"
   ]
  },
  {
   "cell_type": "code",
   "execution_count": 13,
   "metadata": {
    "colab": {
     "base_uri": "https://localhost:8080/"
    },
    "executionInfo": {
     "elapsed": 285,
     "status": "ok",
     "timestamp": 1712888014047,
     "user": {
      "displayName": "허승빈",
      "userId": "05743957422728933959"
     },
     "user_tz": -540
    },
    "id": "siwyHvr1rmAM",
    "outputId": "f1a6e5d5-487e-417c-9661-363123f491d8"
   },
   "outputs": [
    {
     "name": "stdout",
     "output_type": "stream",
     "text": [
      "Model: \"sequential\"\n",
      "_________________________________________________________________\n",
      " Layer (type)                Output Shape              Param #   \n",
      "=================================================================\n",
      " dense (Dense)               (None, 9)                 171       \n",
      "                                                                 \n",
      " dense_1 (Dense)             (None, 6)                 60        \n",
      "                                                                 \n",
      " dense_2 (Dense)             (None, 1)                 7         \n",
      "                                                                 \n",
      "=================================================================\n",
      "Total params: 238 (952.00 Byte)\n",
      "Trainable params: 238 (952.00 Byte)\n",
      "Non-trainable params: 0 (0.00 Byte)\n",
      "_________________________________________________________________\n"
     ]
    }
   ],
   "source": [
    "# 메모리 최적화\n",
    "clear_session()\n",
    "\n",
    "# Sequential 타입 모델 선언\n",
    "model = Sequential([Dense(9, input_shape=(nfeatures,), activation='relu'),\n",
    "                    Dense(6, activation='relu'),\n",
    "                    Dense(1)])\n",
    "\n",
    "# 모델 요약\n",
    "model.summary()"
   ]
  },
  {
   "cell_type": "markdown",
   "metadata": {
    "id": "Sg5XlbcW0w2y"
   },
   "source": [
    "* 컴파일 + 학습"
   ]
  },
  {
   "cell_type": "code",
   "execution_count": 14,
   "metadata": {
    "executionInfo": {
     "elapsed": 3367,
     "status": "ok",
     "timestamp": 1712888018854,
     "user": {
      "displayName": "허승빈",
      "userId": "05743957422728933959"
     },
     "user_tz": -540
    },
    "id": "iEZWr_jNwCpr"
   },
   "outputs": [],
   "source": [
    "model.compile(optimizer=Adam(0.1), loss='mse')\n",
    "\n",
    "hist = model.fit(x_train, y_train, epochs=50, validation_split=.2, verbose=0).history"
   ]
  },
  {
   "cell_type": "markdown",
   "metadata": {
    "id": "6iLA8c2p00M6"
   },
   "source": [
    "* 학습곡선"
   ]
  },
  {
   "cell_type": "code",
   "execution_count": 15,
   "metadata": {
    "colab": {
     "base_uri": "https://localhost:8080/",
     "height": 542
    },
    "executionInfo": {
     "elapsed": 447,
     "status": "ok",
     "timestamp": 1712888021236,
     "user": {
      "displayName": "허승빈",
      "userId": "05743957422728933959"
     },
     "user_tz": -540
    },
    "id": "T9plSoBwwCh8",
    "outputId": "c08f8fcc-831e-45b0-fa75-c78ff98cf590"
   },
   "outputs": [
    {
     "data": {
      "image/png": "[encoded data removed]",
      "text/plain": [
       "<Figure size 1000x600 with 1 Axes>"
      ]
     },
     "metadata": {},
     "output_type": "display_data"
    }
   ],
   "source": [
    "dl_history_plot(hist)"
   ]
  },
  {
   "cell_type": "markdown",
   "metadata": {
    "id": "hVa3Z88902gU"
   },
   "source": [
    "* 검증"
   ]
  },
  {
   "cell_type": "code",
   "execution_count": 16,
   "metadata": {
    "colab": {
     "base_uri": "https://localhost:8080/"
    },
    "executionInfo": {
     "elapsed": 442,
     "status": "ok",
     "timestamp": 1712888034356,
     "user": {
      "displayName": "허승빈",
      "userId": "05743957422728933959"
     },
     "user_tz": -540
    },
    "id": "PTzZV-_DwCY3",
    "outputId": "afe6e960-a5aa-444a-bd37-fdae64a10842"
   },
   "outputs": [
    {
     "name": "stdout",
     "output_type": "stream",
     "text": [
      "3/3 [==============================] - 0s 5ms/step\n",
      "RMSE : 1.314701470875425\n",
      "MAE : 1.1228548890352248\n"
     ]
    }
   ],
   "source": [
    "pred = model.predict(x_val)\n",
    "\n",
    "print(f'RMSE : {mean_squared_error(y_val, pred, squared=False)}')\n",
    "print(f'MAE : {mean_absolute_error(y_val, pred)}')\n",
    "# print(f'MAPE : {mean_absolute_percentage_error(y_val, pred)}')"
   ]
  },
  {
   "cell_type": "markdown",
   "metadata": {
    "id": "2S4Bukgz2EJy"
   },
   "source": [
    "### (2) 모델2"
   ]
  },
  {
   "cell_type": "markdown",
   "metadata": {
    "id": "xvHNAHE82EJz"
   },
   "source": [
    "* 모델 설계\n",
    "    * 일단 먼저 손으로 구조를 그려본 후\n",
    "    * 코드로 옮김"
   ]
  },
  {
   "cell_type": "code",
   "execution_count": null,
   "metadata": {
    "colab": {
     "base_uri": "https://localhost:8080/"
    },
    "executionInfo": {
     "elapsed": 5,
     "status": "ok",
     "timestamp": 1712828515259,
     "user": {
      "displayName": "허승빈",
      "userId": "05743957422728933959"
     },
     "user_tz": -540
    },
    "id": "aw4tMHrU2EJz",
    "outputId": "1a3f40c7-ff56-4f63-866a-1ff7cb0ce516"
   },
   "outputs": [
    {
     "name": "stdout",
     "output_type": "stream",
     "text": [
      "Model: \"sequential\"\n",
      "_________________________________________________________________\n",
      " Layer (type)                Output Shape              Param #   \n",
      "=================================================================\n",
      " dense (Dense)               (None, 4)                 76        \n",
      "                                                                 \n",
      " dense_1 (Dense)             (None, 1)                 5         \n",
      "                                                                 \n",
      "=================================================================\n",
      "Total params: 81 (324.00 Byte)\n",
      "Trainable params: 81 (324.00 Byte)\n",
      "Non-trainable params: 0 (0.00 Byte)\n",
      "_________________________________________________________________\n"
     ]
    }
   ],
   "source": [
    "# 메모리 최적화\n",
    "clear_session()\n",
    "\n",
    "# Sequential 타입 모델 선언\n",
    "model2 = Sequential( [Dense(4, input_shape=(nfeatures,), activation='relu'),\n",
    "                      Dense(1)])\n",
    "\n",
    "# 모델 요약\n",
    "model2.summary()"
   ]
  },
  {
   "cell_type": "markdown",
   "metadata": {
    "id": "sIHyxvkQ2EJz"
   },
   "source": [
    "* 컴파일 + 학습"
   ]
  },
  {
   "cell_type": "code",
   "execution_count": null,
   "metadata": {
    "colab": {
     "base_uri": "https://localhost:8080/"
    },
    "executionInfo": {
     "elapsed": 1737,
     "status": "ok",
     "timestamp": 1712828516993,
     "user": {
      "displayName": "허승빈",
      "userId": "05743957422728933959"
     },
     "user_tz": -540
    },
    "id": "otMjNy8_2EJz",
    "outputId": "4c2bc1f4-4219-4193-8aaf-f406784be18f"
   },
   "outputs": [
    {
     "name": "stdout",
     "output_type": "stream",
     "text": [
      "Epoch 1/30\n",
      "8/8 [==============================] - 0s 19ms/step - loss: 24.5126 - val_loss: 15.0151\n",
      "Epoch 2/30\n",
      "8/8 [==============================] - 0s 4ms/step - loss: 10.7680 - val_loss: 10.1293\n",
      "Epoch 3/30\n",
      "8/8 [==============================] - 0s 4ms/step - loss: 7.2649 - val_loss: 11.8881\n",
      "Epoch 4/30\n",
      "8/8 [==============================] - 0s 4ms/step - loss: 6.5616 - val_loss: 7.0870\n",
      "Epoch 5/30\n",
      "8/8 [==============================] - 0s 4ms/step - loss: 5.4683 - val_loss: 8.4469\n",
      "Epoch 6/30\n",
      "8/8 [==============================] - 0s 4ms/step - loss: 5.2419 - val_loss: 6.4918\n",
      "Epoch 7/30\n",
      "8/8 [==============================] - 0s 4ms/step - loss: 4.6421 - val_loss: 6.7525\n",
      "Epoch 8/30\n",
      "8/8 [==============================] - 0s 4ms/step - loss: 4.2321 - val_loss: 6.1477\n",
      "Epoch 9/30\n",
      "8/8 [==============================] - 0s 4ms/step - loss: 4.0683 - val_loss: 5.7947\n",
      "Epoch 10/30\n",
      "8/8 [==============================] - 0s 4ms/step - loss: 3.8948 - val_loss: 6.3732\n",
      "Epoch 11/30\n",
      "8/8 [==============================] - 0s 4ms/step - loss: 3.6514 - val_loss: 5.2417\n",
      "Epoch 12/30\n",
      "8/8 [==============================] - 0s 4ms/step - loss: 3.5158 - val_loss: 5.7608\n",
      "Epoch 13/30\n",
      "8/8 [==============================] - 0s 4ms/step - loss: 3.3855 - val_loss: 4.7210\n",
      "Epoch 14/30\n",
      "8/8 [==============================] - 0s 4ms/step - loss: 3.3916 - val_loss: 5.2118\n",
      "Epoch 15/30\n",
      "8/8 [==============================] - 0s 4ms/step - loss: 3.0665 - val_loss: 4.3045\n",
      "Epoch 16/30\n",
      "8/8 [==============================] - 0s 4ms/step - loss: 2.9907 - val_loss: 4.5917\n",
      "Epoch 17/30\n",
      "8/8 [==============================] - 0s 4ms/step - loss: 2.8162 - val_loss: 4.0887\n",
      "Epoch 18/30\n",
      "8/8 [==============================] - 0s 4ms/step - loss: 2.5566 - val_loss: 3.5800\n",
      "Epoch 19/30\n",
      "8/8 [==============================] - 0s 4ms/step - loss: 2.3549 - val_loss: 3.8170\n",
      "Epoch 20/30\n",
      "8/8 [==============================] - 0s 4ms/step - loss: 2.2747 - val_loss: 3.0685\n",
      "Epoch 21/30\n",
      "8/8 [==============================] - 0s 4ms/step - loss: 2.0646 - val_loss: 2.7249\n",
      "Epoch 22/30\n",
      "8/8 [==============================] - 0s 4ms/step - loss: 1.9497 - val_loss: 3.3399\n",
      "Epoch 23/30\n",
      "8/8 [==============================] - 0s 4ms/step - loss: 1.7860 - val_loss: 2.4595\n",
      "Epoch 24/30\n",
      "8/8 [==============================] - 0s 4ms/step - loss: 1.5297 - val_loss: 2.2293\n",
      "Epoch 25/30\n",
      "8/8 [==============================] - 0s 4ms/step - loss: 1.3931 - val_loss: 1.8991\n",
      "Epoch 26/30\n",
      "8/8 [==============================] - 0s 4ms/step - loss: 1.3160 - val_loss: 1.7669\n",
      "Epoch 27/30\n",
      "8/8 [==============================] - 0s 5ms/step - loss: 1.1901 - val_loss: 1.5096\n",
      "Epoch 28/30\n",
      "8/8 [==============================] - 0s 4ms/step - loss: 1.2479 - val_loss: 1.3792\n",
      "Epoch 29/30\n",
      "8/8 [==============================] - 0s 4ms/step - loss: 1.1577 - val_loss: 1.5675\n",
      "Epoch 30/30\n",
      "8/8 [==============================] - 0s 4ms/step - loss: 0.9963 - val_loss: 1.3755\n"
     ]
    }
   ],
   "source": [
    "model2.compile(optimizer=Adam(0.1), loss='mse')\n",
    "\n",
    "hist2 = model2.fit(x_train, y_train, epochs=30, validation_split=.2).history"
   ]
  },
  {
   "cell_type": "markdown",
   "metadata": {
    "id": "MeI5tI2o2EJz"
   },
   "source": [
    "* 학습곡선"
   ]
  },
  {
   "cell_type": "code",
   "execution_count": null,
   "metadata": {
    "colab": {
     "base_uri": "https://localhost:8080/",
     "height": 542
    },
    "executionInfo": {
     "elapsed": 9,
     "status": "ok",
     "timestamp": 1712828516993,
     "user": {
      "displayName": "허승빈",
      "userId": "05743957422728933959"
     },
     "user_tz": -540
    },
    "id": "L1QtsDLf2EJz",
    "outputId": "113db71c-a6a6-4370-91c9-7b8e8cf87e0a"
   },
   "outputs": [
    {
     "data": {
      "image/png": "[encoded data removed]",
      "text/plain": [
       "<Figure size 1000x600 with 1 Axes>"
      ]
     },
     "metadata": {},
     "output_type": "display_data"
    }
   ],
   "source": [
    "dl_history_plot(hist2)"
   ]
  },
  {
   "cell_type": "markdown",
   "metadata": {
    "id": "5iBe6i1d2EJ0"
   },
   "source": [
    "* 검증"
   ]
  },
  {
   "cell_type": "code",
   "execution_count": null,
   "metadata": {
    "colab": {
     "base_uri": "https://localhost:8080/"
    },
    "executionInfo": {
     "elapsed": 405,
     "status": "ok",
     "timestamp": 1712828517392,
     "user": {
      "displayName": "허승빈",
      "userId": "05743957422728933959"
     },
     "user_tz": -540
    },
    "id": "POTQyyuW2EJ0",
    "outputId": "f30acd4d-5169-48fc-ecbf-7dcfe4f78d80"
   },
   "outputs": [
    {
     "name": "stdout",
     "output_type": "stream",
     "text": [
      "3/3 [==============================] - 0s 3ms/step\n",
      "RMSE : 1.3123734339338642\n",
      "MAE : 1.068386602461338\n"
     ]
    }
   ],
   "source": [
    "pred2 = model2.predict(x_val)\n",
    "\n",
    "print(f'RMSE : {mean_squared_error(y_val, pred2, squared=False)}')\n",
    "print(f'MAE : {mean_absolute_error(y_val, pred2)}')\n",
    "# print(f'MAPE : {mean_absolute_percentage_error(y_val, pred2)}')"
   ]
  },
  {
   "cell_type": "markdown",
   "metadata": {
    "id": "0SwZmtuF-3i1"
   },
   "source": [
    "### (3) 모델3"
   ]
  },
  {
   "cell_type": "markdown",
   "metadata": {
    "id": "8yg1-CM5eQf-"
   },
   "source": [
    "* 모델 설계\n",
    "    * 일단 먼저 손으로 구조를 그려본 후\n",
    "    * 코드로 옮김"
   ]
  },
  {
   "cell_type": "code",
   "execution_count": null,
   "metadata": {
    "colab": {
     "base_uri": "https://localhost:8080/"
    },
    "executionInfo": {
     "elapsed": 11,
     "status": "ok",
     "timestamp": 1712828517393,
     "user": {
      "displayName": "허승빈",
      "userId": "05743957422728933959"
     },
     "user_tz": -540
    },
    "id": "hp_ljGDteQgG",
    "outputId": "3c83acc3-3194-40f2-87d0-e426d3b3a47b"
   },
   "outputs": [
    {
     "name": "stdout",
     "output_type": "stream",
     "text": [
      "Model: \"sequential\"\n",
      "_________________________________________________________________\n",
      " Layer (type)                Output Shape              Param #   \n",
      "=================================================================\n",
      " dense (Dense)               (None, 8)                 152       \n",
      "                                                                 \n",
      " dense_1 (Dense)             (None, 4)                 36        \n",
      "                                                                 \n",
      " dense_2 (Dense)             (None, 1)                 5         \n",
      "                                                                 \n",
      "=================================================================\n",
      "Total params: 193 (772.00 Byte)\n",
      "Trainable params: 193 (772.00 Byte)\n",
      "Non-trainable params: 0 (0.00 Byte)\n",
      "_________________________________________________________________\n"
     ]
    }
   ],
   "source": [
    "# 메모리 최적화\n",
    "clear_session()\n",
    "\n",
    "# Sequential 타입 모델 선언\n",
    "model3 = Sequential( [Dense(8, input_shape=(nfeatures,), activation='relu'),\n",
    "                      Dense(4, activation='relu'),\n",
    "                      Dense(1)])\n",
    "\n",
    "# 모델 요약\n",
    "model3.summary()"
   ]
  },
  {
   "cell_type": "markdown",
   "metadata": {
    "id": "0L5OAiYIeQgG"
   },
   "source": [
    "* 컴파일 + 학습"
   ]
  },
  {
   "cell_type": "code",
   "execution_count": null,
   "metadata": {
    "colab": {
     "base_uri": "https://localhost:8080/"
    },
    "executionInfo": {
     "elapsed": 1206,
     "status": "ok",
     "timestamp": 1712828518593,
     "user": {
      "displayName": "허승빈",
      "userId": "05743957422728933959"
     },
     "user_tz": -540
    },
    "id": "ZgRGS9X0eQgG",
    "outputId": "93c94eaa-19d2-4e77-8859-8734ad41d002"
   },
   "outputs": [
    {
     "name": "stdout",
     "output_type": "stream",
     "text": [
      "Epoch 1/30\n",
      "8/8 [==============================] - 1s 16ms/step - loss: 53.6144 - val_loss: 25.2235\n",
      "Epoch 2/30\n",
      "8/8 [==============================] - 0s 4ms/step - loss: 13.6204 - val_loss: 21.9509\n",
      "Epoch 3/30\n",
      "8/8 [==============================] - 0s 4ms/step - loss: 10.1529 - val_loss: 10.5287\n",
      "Epoch 4/30\n",
      "8/8 [==============================] - 0s 4ms/step - loss: 8.3698 - val_loss: 8.4548\n",
      "Epoch 5/30\n",
      "8/8 [==============================] - 0s 4ms/step - loss: 6.3358 - val_loss: 9.1858\n",
      "Epoch 6/30\n",
      "8/8 [==============================] - 0s 4ms/step - loss: 5.2277 - val_loss: 7.3087\n",
      "Epoch 7/30\n",
      "8/8 [==============================] - 0s 3ms/step - loss: 5.3236 - val_loss: 7.6293\n",
      "Epoch 8/30\n",
      "8/8 [==============================] - 0s 4ms/step - loss: 4.8027 - val_loss: 6.8225\n",
      "Epoch 9/30\n",
      "8/8 [==============================] - 0s 4ms/step - loss: 4.4848 - val_loss: 7.1115\n",
      "Epoch 10/30\n",
      "8/8 [==============================] - 0s 4ms/step - loss: 4.2063 - val_loss: 6.3016\n",
      "Epoch 11/30\n",
      "8/8 [==============================] - 0s 4ms/step - loss: 4.0828 - val_loss: 6.3082\n",
      "Epoch 12/30\n",
      "8/8 [==============================] - 0s 4ms/step - loss: 3.8702 - val_loss: 5.7093\n",
      "Epoch 13/30\n",
      "8/8 [==============================] - 0s 4ms/step - loss: 3.6926 - val_loss: 5.6940\n",
      "Epoch 14/30\n",
      "8/8 [==============================] - 0s 4ms/step - loss: 3.5293 - val_loss: 5.1742\n",
      "Epoch 15/30\n",
      "8/8 [==============================] - 0s 4ms/step - loss: 3.4221 - val_loss: 5.1405\n",
      "Epoch 16/30\n",
      "8/8 [==============================] - 0s 4ms/step - loss: 3.2270 - val_loss: 4.7221\n",
      "Epoch 17/30\n",
      "8/8 [==============================] - 0s 4ms/step - loss: 3.1033 - val_loss: 4.7097\n",
      "Epoch 18/30\n",
      "8/8 [==============================] - 0s 4ms/step - loss: 3.0002 - val_loss: 4.2749\n",
      "Epoch 19/30\n",
      "8/8 [==============================] - 0s 4ms/step - loss: 2.8389 - val_loss: 4.0872\n",
      "Epoch 20/30\n",
      "8/8 [==============================] - 0s 4ms/step - loss: 2.6772 - val_loss: 3.9686\n",
      "Epoch 21/30\n",
      "8/8 [==============================] - 0s 5ms/step - loss: 2.5097 - val_loss: 3.4587\n",
      "Epoch 22/30\n",
      "8/8 [==============================] - 0s 4ms/step - loss: 2.4291 - val_loss: 3.3741\n",
      "Epoch 23/30\n",
      "8/8 [==============================] - 0s 5ms/step - loss: 2.1958 - val_loss: 3.2720\n",
      "Epoch 24/30\n",
      "8/8 [==============================] - 0s 4ms/step - loss: 2.0743 - val_loss: 3.2496\n",
      "Epoch 25/30\n",
      "8/8 [==============================] - 0s 4ms/step - loss: 1.9941 - val_loss: 2.6368\n",
      "Epoch 26/30\n",
      "8/8 [==============================] - 0s 4ms/step - loss: 1.8242 - val_loss: 2.3855\n",
      "Epoch 27/30\n",
      "8/8 [==============================] - 0s 4ms/step - loss: 1.6448 - val_loss: 2.0797\n",
      "Epoch 28/30\n",
      "8/8 [==============================] - 0s 4ms/step - loss: 1.5583 - val_loss: 1.9234\n",
      "Epoch 29/30\n",
      "8/8 [==============================] - 0s 4ms/step - loss: 1.3305 - val_loss: 2.3043\n",
      "Epoch 30/30\n",
      "8/8 [==============================] - 0s 4ms/step - loss: 1.2739 - val_loss: 1.7029\n"
     ]
    }
   ],
   "source": [
    "model3.compile(optimizer=Adam(0.05), loss='mse')\n",
    "\n",
    "hist3 = model3.fit(x_train, y_train, epochs=30, validation_split=.2).history"
   ]
  },
  {
   "cell_type": "markdown",
   "metadata": {
    "id": "_UqZwU0zeQgG"
   },
   "source": [
    "* 학습곡선"
   ]
  },
  {
   "cell_type": "code",
   "execution_count": null,
   "metadata": {
    "colab": {
     "base_uri": "https://localhost:8080/",
     "height": 542
    },
    "executionInfo": {
     "elapsed": 579,
     "status": "ok",
     "timestamp": 1712828519171,
     "user": {
      "displayName": "허승빈",
      "userId": "05743957422728933959"
     },
     "user_tz": -540
    },
    "id": "ZDHvyNbXeQgG",
    "outputId": "f868fbb3-264f-4a49-a94f-c5be20de236d"
   },
   "outputs": [
    {
     "data": {
      "image/png": "[encoded data removed]",
      "text/plain": [
       "<Figure size 1000x600 with 1 Axes>"
      ]
     },
     "metadata": {},
     "output_type": "display_data"
    }
   ],
   "source": [
    "dl_history_plot(hist3)"
   ]
  },
  {
   "cell_type": "markdown",
   "metadata": {
    "id": "x-MrIZUOeQgH"
   },
   "source": [
    "* 검증"
   ]
  },
  {
   "cell_type": "code",
   "execution_count": null,
   "metadata": {
    "colab": {
     "base_uri": "https://localhost:8080/"
    },
    "executionInfo": {
     "elapsed": 6,
     "status": "ok",
     "timestamp": 1712828519171,
     "user": {
      "displayName": "허승빈",
      "userId": "05743957422728933959"
     },
     "user_tz": -540
    },
    "id": "UdvGry1neQgH",
    "outputId": "c8fac74f-c157-41da-cd2f-d274cf21a3bf"
   },
   "outputs": [
    {
     "name": "stdout",
     "output_type": "stream",
     "text": [
      "3/3 [==============================] - 0s 2ms/step\n",
      "RMSE : 1.4230208401780877\n",
      "MAE : 1.130710133433342\n"
     ]
    }
   ],
   "source": [
    "pred3 = model3.predict(x_val)\n",
    "\n",
    "print(f'RMSE : {mean_squared_error(y_val, pred3, squared=False)}')\n",
    "print(f'MAE : {mean_absolute_error(y_val, pred3)}')\n",
    "# print(f'MAPE : {mean_absolute_percentage_error(y_val, pred3)}')"
   ]
  },
  {
   "cell_type": "code",
   "execution_count": null,
   "metadata": {
    "id": "cO9aN3GnKaA_"
   },
   "outputs": [],
   "source": []
  }
 ],
 "metadata": {
  "colab": {
   "provenance": []
  },
  "kernelspec": {
   "display_name": "Python 3",
   "name": "python3"
  }
 },
 "nbformat": 4,
 "nbformat_minor": 0
}
